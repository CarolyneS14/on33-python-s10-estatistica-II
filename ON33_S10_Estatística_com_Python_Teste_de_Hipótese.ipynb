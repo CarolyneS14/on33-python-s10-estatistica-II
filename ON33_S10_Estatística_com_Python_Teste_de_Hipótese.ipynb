{
  "nbformat": 4,
  "nbformat_minor": 0,
  "metadata": {
    "colab": {
      "provenance": []
    },
    "kernelspec": {
      "name": "python3",
      "display_name": "Python 3"
    },
    "language_info": {
      "name": "python"
    }
  },
  "cells": [
    {
      "cell_type": "code",
      "execution_count": null,
      "metadata": {
        "id": "4xft3E_o7YUF"
      },
      "outputs": [],
      "source": [
        "import math\n",
        "import random"
      ]
    },
    {
      "cell_type": "markdown",
      "source": [
        "# Estatistica descritiva\n",
        "## Média\n",
        "\n",
        "O calculo da média representa a soma de todos os itens de uma lista e divide os valores pelo tamanho de itens da lista"
      ],
      "metadata": {
        "id": "TC5HkTql8P2c"
      }
    },
    {
      "cell_type": "code",
      "source": [
        "def media(valores):\n",
        "  soma = 0\n",
        "  for valor in valores:\n",
        "    soma += valor;\n",
        "  return soma / len(valores)"
      ],
      "metadata": {
        "id": "M7_xBwYn7oCz"
      },
      "execution_count": null,
      "outputs": []
    },
    {
      "cell_type": "markdown",
      "source": [
        "## Mediana\n",
        "A médiana é calculada pegando o valor que está no meio da lista, caso a lista seja impar a mediana é a posição central exatamente, caso o tamanho da lista seja par, o valor da mediana é a média dos dois valores ao centro"
      ],
      "metadata": {
        "id": "7ThMCSRN9HuO"
      }
    },
    {
      "cell_type": "code",
      "source": [
        "def mediana(valores):\n",
        "  valores.sort()\n",
        "  index_central = len(valores)//2\n",
        "  if len(valores)%2 == 0:\n",
        "    lista_central = [valores[index_central - 1], valores[index_central]]\n",
        "    return media(lista_central)\n",
        "  else:\n",
        "    return valores[index_central]"
      ],
      "metadata": {
        "id": "sKw82L227tHb"
      },
      "execution_count": null,
      "outputs": []
    },
    {
      "cell_type": "markdown",
      "source": [
        "## Moda\n",
        "A moda é o valor que mais aparece em uma lista, a melhor forma de calcular a moda é primeiro determinar a frequencia de cada item, apartir dai é possivel que uma lista seja monomodal (uma moda), bimodal (duas modas), multimodal (muitas modas), ou sem moda, para ela ser considerada sem moda nenhum dos itens da lista pode se repetir, isso é, a frequencia de todos os itens é 1, caso a frequencia seja maior que um a lista já tem alguma moda"
      ],
      "metadata": {
        "id": "AVFKNKxv9j4s"
      }
    },
    {
      "cell_type": "code",
      "source": [
        "def moda(valores):\n",
        "\n",
        "  frequencias = {}\n",
        "  for valor in valores:\n",
        "    if valor in frequencias:\n",
        "      frequencias[valor] += 1\n",
        "    else:\n",
        "      frequencias[valor] = 1\n",
        "\n",
        "  moda = []\n",
        "\n",
        "  max_frequencia = 0\n",
        "  for num, frequencia in frequencias.items():\n",
        "    if frequencia > max_frequencia:\n",
        "      max_frequencia = frequencia\n",
        "      moda = []\n",
        "      moda.append(num)\n",
        "    elif frequencia == max_frequencia:\n",
        "      moda.append(num)\n",
        "\n",
        "  if max_frequencia == 1:\n",
        "    return []\n",
        "  else:\n",
        "    return moda"
      ],
      "metadata": {
        "id": "I65l6WLH7vsq"
      },
      "execution_count": null,
      "outputs": []
    },
    {
      "cell_type": "markdown",
      "source": [
        "## Desvio Padrão\n",
        "\n",
        "O desvio padrão representa o quanto os valores da lista estão longe ou perto da média, ele é calculado pela seguinte formula:\n",
        "\n",
        "![1_PCMeI7gmHjcNa6wQPVDXsQ.png](data:image/png;base64,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)\n",
        "\n",
        "Que representa a somatória dos itens menos a média dividido pelo numero de itens menos 1, tudo isso ao quadrado"
      ],
      "metadata": {
        "id": "tJMJTH_d-ksX"
      }
    },
    {
      "cell_type": "code",
      "source": [
        "def variancia(valores):\n",
        "  val_media = media(valores)\n",
        "\n",
        "  soma_quadrados = 0\n",
        "\n",
        "  for valor in valores:\n",
        "    soma_quadrados += (valor - val_media) ** 2\n",
        "\n",
        "  return soma_quadrados / (len(valores) - 1)\n",
        "\n",
        "def desvio_padrao(valores):\n",
        "  return math.sqrt(variancia(valores))"
      ],
      "metadata": {
        "id": "D1WlAzOO7y52"
      },
      "execution_count": null,
      "outputs": []
    },
    {
      "cell_type": "code",
      "source": [
        "def divide_lista(valores):\n",
        "  valores.sort()\n",
        "  index_central = len(valores)//2\n",
        "  if len(valores)%2 == 0:\n",
        "    return [valores[:index_central-1],valores[index_central+1:]]\n",
        "  else:\n",
        "    return [valores[:index_central],valores[index_central+1:]]"
      ],
      "metadata": {
        "id": "wHCEJcCect8z"
      },
      "execution_count": null,
      "outputs": []
    },
    {
      "cell_type": "code",
      "source": [
        "dados = [14,4,11,20,6,18,15,19,14,9,7,9,2,12,1,9,8,8,6,20]"
      ],
      "metadata": {
        "id": "Tj7PSKTueDKb"
      },
      "execution_count": null,
      "outputs": []
    },
    {
      "cell_type": "code",
      "source": [
        "[[11416076, 40101950, 11667250, 65510053, 22126530],[212994,656000,236.318,1450382,454588]]\n"
      ],
      "metadata": {
        "id": "Gwzld6ff2d8J"
      },
      "execution_count": null,
      "outputs": []
    },
    {
      "cell_type": "code",
      "source": [
        "def quartis(valores):\n",
        "  valores_divididos = divide_lista(valores)\n",
        "  return [mediana(valores_divididos[0]),mediana(valores),mediana(valores_divididos[1])]"
      ],
      "metadata": {
        "id": "w2EHPWlpeLts"
      },
      "execution_count": null,
      "outputs": []
    },
    {
      "cell_type": "code",
      "source": [
        "quartis(dados)"
      ],
      "metadata": {
        "colab": {
          "base_uri": "https://localhost:8080/"
        },
        "id": "eiRWZNBugnG9",
        "outputId": "27182103-e6ae-4d08-8e13-c7e11ad826af"
      },
      "execution_count": null,
      "outputs": [
        {
          "output_type": "execute_result",
          "data": {
            "text/plain": [
              "[6, 9.0, 15]"
            ]
          },
          "metadata": {},
          "execution_count": 21
        }
      ]
    },
    {
      "cell_type": "markdown",
      "source": [
        "# Teste Z\n",
        "\n",
        "Suposição: \"A duração média é igual a 1.570 horas\"."
      ],
      "metadata": {
        "id": "XOzN3N0Q--rU"
      }
    },
    {
      "cell_type": "code",
      "source": [
        "import csv\n",
        "duracao = []\n",
        "with open('/content/experimento_duraccao.csv',) as csvfile:\n",
        "    spamreader = csv.reader(csvfile)\n",
        "    for row in spamreader:\n",
        "        duracao.append(float(row[1]))\n",
        "duracao"
      ],
      "metadata": {
        "colab": {
          "base_uri": "https://localhost:8080/"
        },
        "id": "0SFkeLFg_BqS",
        "outputId": "864457e4-09a2-4091-b693-616130fd2184"
      },
      "execution_count": null,
      "outputs": [
        {
          "output_type": "execute_result",
          "data": {
            "text/plain": [
              "[1541.121473776273,\n",
              " 1523.4953293328665,\n",
              " 1521.732707443278,\n",
              " 1523.2800913095082,\n",
              " 1530.6433736016138,\n",
              " 1516.6657943260795,\n",
              " 1540.3655251042587,\n",
              " 1529.607004096196,\n",
              " 1531.108607839882,\n",
              " 1523.4879557947793,\n",
              " 1525.1436064717811,\n",
              " 1538.6801556030846,\n",
              " 1535.641873470491,\n",
              " 1529.809188176167,\n",
              " 1516.192904738845,\n",
              " 1546.2980355960492,\n",
              " 1522.9907396393542,\n",
              " 1537.8760742726467,\n",
              " 1523.73661701157,\n",
              " 1520.1317174447095,\n",
              " 1528.6068886742426,\n",
              " 1524.98025747465,\n",
              " 1525.8922476764883,\n",
              " 1531.4468870044761,\n",
              " 1539.1589924981704,\n",
              " 1523.1367185811628,\n",
              " 1540.3938475372772,\n",
              " 1551.798841941055,\n",
              " 1523.6863879663342,\n",
              " 1546.0577411187896,\n",
              " 1540.5731989804453,\n",
              " 1534.6433259600783,\n",
              " 1515.619184168428,\n",
              " 1529.0182414563749,\n",
              " 1517.29018299041,\n",
              " 1537.1241157498737,\n",
              " 1534.6300632281618,\n",
              " 1546.5458637384925,\n",
              " 1533.6700518257123,\n",
              " 1530.350398966893,\n",
              " 1528.0244386286843,\n",
              " 1536.4118504713103,\n",
              " 1524.1736408412069,\n",
              " 1528.5205427151964,\n",
              " 1515.2070313357647,\n",
              " 1514.7807714437265,\n",
              " 1538.9982925905724,\n",
              " 1532.349927959576,\n",
              " 1519.067938811716,\n",
              " 1524.381784685303,\n",
              " 1540.551173991569,\n",
              " 1525.39135087796,\n",
              " 1520.8435870185401,\n",
              " 1533.2240944803098,\n",
              " 1526.1129864709148,\n",
              " 1515.9979252491,\n",
              " 1531.662413689329,\n",
              " 1534.0451337032662,\n",
              " 1518.101250986119,\n",
              " 1541.110951345641,\n",
              " 1526.2604015784827,\n",
              " 1531.1717121818094,\n",
              " 1525.601474185185,\n",
              " 1540.293306955906,\n",
              " 1530.0996907561,\n",
              " 1541.9165966396715,\n",
              " 1535.0268478208336,\n",
              " 1533.5906137465365,\n",
              " 1524.1951840797062,\n",
              " 1524.2069191868293,\n",
              " 1525.6844259720795,\n",
              " 1528.0068649615303,\n",
              " 1526.896560528422,\n",
              " 1512.287233792267,\n",
              " 1521.2048211202798,\n",
              " 1533.3035644233362,\n",
              " 1524.9991348563203,\n",
              " 1524.8537442611337,\n",
              " 1525.6427928967335,\n",
              " 1523.1988123670255,\n",
              " 1532.4651520621408,\n",
              " 1511.6210381617243,\n",
              " 1549.8471577687878,\n",
              " 1539.7719294102933,\n",
              " 1525.8231102806024,\n",
              " 1521.0573894440472,\n",
              " 1543.96186999428,\n",
              " 1539.4283938708024,\n",
              " 1524.5015771837727,\n",
              " 1523.0502437320472,\n",
              " 1534.404912494425,\n",
              " 1538.9758904648393,\n",
              " 1525.025477907811,\n",
              " 1524.918234177881,\n",
              " 1544.422872927602,\n",
              " 1523.1125013916653,\n",
              " 1528.213842744854,\n",
              " 1513.6894170497233,\n",
              " 1532.4005319977712,\n",
              " 1534.0915614971352]"
            ]
          },
          "metadata": {},
          "execution_count": 1
        }
      ]
    },
    {
      "cell_type": "code",
      "source": [
        "from statsmodels.stats.weightstats import ztest"
      ],
      "metadata": {
        "id": "0UUezhSD-8-f"
      },
      "execution_count": null,
      "outputs": []
    },
    {
      "cell_type": "code",
      "source": [
        "stats, p_valor = ztest(x1 = duracao, value = 1570, alternative = \"two-sided\")"
      ],
      "metadata": {
        "id": "pYG3OQQWAsfz"
      },
      "execution_count": null,
      "outputs": []
    },
    {
      "cell_type": "code",
      "source": [
        "p_valor"
      ],
      "metadata": {
        "colab": {
          "base_uri": "https://localhost:8080/"
        },
        "id": "MId55DzSTuab",
        "outputId": "517d1672-4fba-478d-bbb9-6403803ff3a5"
      },
      "execution_count": null,
      "outputs": [
        {
          "output_type": "execute_result",
          "data": {
            "text/plain": [
              "0.0"
            ]
          },
          "metadata": {},
          "execution_count": 4
        }
      ]
    },
    {
      "cell_type": "code",
      "source": [
        "if p_valor < 0.05:\n",
        "    conclusao = \"Rejeitar a hipótese nula\"\n",
        "else:\n",
        "    conclusao = \"Não rejeita a hipótese nula\"\n",
        "\n",
        "print(\"Conclusão:\", conclusao)"
      ],
      "metadata": {
        "colab": {
          "base_uri": "https://localhost:8080/"
        },
        "id": "BoX_kq6_BPzZ",
        "outputId": "94e09f3c-4607-4cd1-a43b-986f62fb7701"
      },
      "execution_count": null,
      "outputs": [
        {
          "output_type": "stream",
          "name": "stdout",
          "text": [
            "Conclusão: Rejeitar a hipótese nula\n"
          ]
        }
      ]
    },
    {
      "cell_type": "markdown",
      "source": [
        "# Teste T\n",
        "\n",
        "Será que o tempo médio do suporte é igual a 30 minutos ou menor que 30 minutos? A partir desse par de hipóteses, definido nos passos anteriores, podemos analisar qual foi a média de resposta de suporte observada. Para isso, vamos usar a variável tempo_resposta em uma nova célula."
      ],
      "metadata": {
        "id": "3czxjogZ1rca"
      }
    },
    {
      "cell_type": "code",
      "source": [
        "tempo_resposta = [28, 32, 29, 31, 30, 33, 28, 30, 31, 29,\n",
        "                  30, 32, 29, 31, 30, 33, 28, 30, 31, 29,\n",
        "                  30, 32, 24, 29, 30]"
      ],
      "metadata": {
        "id": "Nc6tffdi1pRQ"
      },
      "execution_count": null,
      "outputs": []
    },
    {
      "cell_type": "code",
      "source": [],
      "metadata": {
        "id": "hYwH3E_pkocp"
      },
      "execution_count": null,
      "outputs": []
    },
    {
      "cell_type": "code",
      "source": [
        "media(tempo_resposta)"
      ],
      "metadata": {
        "colab": {
          "base_uri": "https://localhost:8080/"
        },
        "id": "2T-hucU518e_",
        "outputId": "ec196fac-e613-41b6-d937-e5925b2ccda4"
      },
      "execution_count": null,
      "outputs": [
        {
          "output_type": "execute_result",
          "data": {
            "text/plain": [
              "29.96"
            ]
          },
          "metadata": {},
          "execution_count": 23
        }
      ]
    },
    {
      "cell_type": "code",
      "source": [
        "from scipy.stats import ttest_1samp"
      ],
      "metadata": {
        "id": "oxTr99xy2ECz"
      },
      "execution_count": null,
      "outputs": []
    },
    {
      "cell_type": "code",
      "source": [
        "stats, p_valor = ttest_1samp(tempo_resposta, 20, alternative = \"greater\")"
      ],
      "metadata": {
        "id": "vggWOgzK2Gpx"
      },
      "execution_count": null,
      "outputs": []
    },
    {
      "cell_type": "code",
      "source": [],
      "metadata": {
        "id": "_qe-qbroiqNY"
      },
      "execution_count": null,
      "outputs": []
    },
    {
      "cell_type": "code",
      "source": [
        "print(p_valor)"
      ],
      "metadata": {
        "colab": {
          "base_uri": "https://localhost:8080/"
        },
        "id": "VXNZS-sQ2KyJ",
        "outputId": "e4a54650-6a88-4533-a3f1-a884ffc0025a"
      },
      "execution_count": null,
      "outputs": [
        {
          "output_type": "stream",
          "name": "stdout",
          "text": [
            "1.8702750949556622e-19\n"
          ]
        }
      ]
    },
    {
      "cell_type": "code",
      "source": [
        "nivel_significancia = 0.05\n",
        "\n",
        "if p_valor < nivel_significancia:\n",
        "    conclusao = \"Rejeitar a hipótese nula\"\n",
        "else:\n",
        "    conclusao = \"Não rejeita a hipótese nula\"\n",
        "\n",
        "conclusao"
      ],
      "metadata": {
        "colab": {
          "base_uri": "https://localhost:8080/",
          "height": 35
        },
        "id": "BEAD4WxF37Ad",
        "outputId": "90b883db-afd3-46dd-bc4a-5280a2418e56"
      },
      "execution_count": null,
      "outputs": [
        {
          "output_type": "execute_result",
          "data": {
            "text/plain": [
              "'Não rejeita a hipótese nula'"
            ],
            "application/vnd.google.colaboratory.intrinsic+json": {
              "type": "string"
            }
          },
          "metadata": {},
          "execution_count": 27
        }
      ]
    },
    {
      "cell_type": "markdown",
      "source": [
        "# Teste T Independente\n",
        "\n",
        "a propaganda produz um efeito positivo nas vendas? Colocar anúncios aumenta nossas vendas no e-commerce? Essa é a nossa hipótese. Acreditamos que os anúncios aumentam as vendas. Ao analisarmos isso, precisamos entender como vamos comparar e testar essa hipótese."
      ],
      "metadata": {
        "id": "36NKzPzQ6BKh"
      }
    },
    {
      "cell_type": "code",
      "source": [
        "vendas_com_propaganda = [329.80, 291.70, 338.86, 391.38, 285.95, 285.95, 394.75, 346.05, 271.83, 332.55, 272.19, 272.06, 314.52, 185.20, 196.50, 266.26, 239.23, 318.85, 245.52, 215.26, 387.94, 286.45, 304.05, 214.52, 267.34, 306.66, 230.94, 322.54, 263.96, 282.50, 263.90, 411.14, 299.19, 236.54, 349.35, 226.75, 312.53, 182.42, 220.31, 311.81, 344.31, 310.28, 293.66, 281.93, 211.29, 256.81, 272.36, 363.43, 320.62, 194.22]"
      ],
      "metadata": {
        "id": "PUGdkew05vSj"
      },
      "execution_count": null,
      "outputs": []
    },
    {
      "cell_type": "code",
      "source": [
        "vendas_sem_propaganda = [304.44, 261.89, 244.38, 321.70, 346.86, 348.08, 234.65, 266.45, 304.88, 343.53, 256.25, 273.86, 218.62, 213.23, 333.75, 366.37, 280.68, 345.21, 306.70, 246.29, 306.68, 377.28, 282.85, 378.88, 127.82, 334.31, 290.22, 267.06, 290.51, 165.74, 271.82, 306.43, 373.67, 253.90, 236.49, 254.89, 339.92, 304.73, 253.21, 315.80, 292.80, 343.12, 242.88, 265.34, 261.47, 197.19, 302.77, 300.66, 285.31, 270.92]"
      ],
      "metadata": {
        "id": "P9H_XR675yOY"
      },
      "execution_count": null,
      "outputs": []
    },
    {
      "cell_type": "code",
      "source": [
        "media(vendas_com_propaganda)"
      ],
      "metadata": {
        "colab": {
          "base_uri": "https://localhost:8080/"
        },
        "id": "vBFqpGuX50yK",
        "outputId": "744a5370-b879-418a-c188-d1c918816fe1"
      },
      "execution_count": null,
      "outputs": [
        {
          "output_type": "execute_result",
          "data": {
            "text/plain": [
              "286.4832"
            ]
          },
          "metadata": {},
          "execution_count": 30
        }
      ]
    },
    {
      "cell_type": "code",
      "source": [
        "media(vendas_sem_propaganda)"
      ],
      "metadata": {
        "colab": {
          "base_uri": "https://localhost:8080/"
        },
        "id": "M51B_tCU57iR",
        "outputId": "8075ba0e-59d6-4f1c-fab3-afb44ab12bb0"
      },
      "execution_count": null,
      "outputs": [
        {
          "output_type": "execute_result",
          "data": {
            "text/plain": [
              "286.24979999999994"
            ]
          },
          "metadata": {},
          "execution_count": 31
        }
      ]
    },
    {
      "cell_type": "code",
      "source": [
        "from scipy.stats import ttest_ind"
      ],
      "metadata": {
        "id": "GRdr9FkP6dyE"
      },
      "execution_count": null,
      "outputs": []
    },
    {
      "cell_type": "code",
      "source": [
        "stats, p_valor = ttest_ind (vendas_com_propaganda, vendas_sem_propaganda, alternative = \"greater\")"
      ],
      "metadata": {
        "id": "mwgRoyeK6ick"
      },
      "execution_count": null,
      "outputs": []
    },
    {
      "cell_type": "code",
      "source": [
        "alpha = 0.05\n",
        "if p_valor < alpha:\n",
        "    print(\"Rejeitar a hipótese nula: Há evidências de que a propaganda tem um efeito positivo nas vendas.\")\n",
        "else:\n",
        "    print(\"Não rejeita hipótese nula: Não há evidências suficientes para afirmar um efeito positivo nas vendas devido à propaganda.\")"
      ],
      "metadata": {
        "colab": {
          "base_uri": "https://localhost:8080/"
        },
        "id": "fPqOdlMH6lac",
        "outputId": "3d582356-5c27-4b54-88a5-ddc889e89415"
      },
      "execution_count": null,
      "outputs": [
        {
          "output_type": "stream",
          "name": "stdout",
          "text": [
            "Não rejeita hipótese nula: Não há evidências suficientes para afirmar um efeito positivo nas vendas devido à propaganda.\n"
          ]
        }
      ]
    },
    {
      "cell_type": "markdown",
      "source": [
        "# Teste T dependente\n",
        "\n",
        "Notas antes e depois do treinamento"
      ],
      "metadata": {
        "id": "-klMAcLQB2Lo"
      }
    },
    {
      "cell_type": "code",
      "source": [
        "antes_do_treinamento =[78, 65, 75, 80, 85, 88, 79, 81, 76, 84]\n",
        "apos_o_treinamento = [85, 70, 75, 87, 90, 92, 84, 82, 76, 91]"
      ],
      "metadata": {
        "id": "KUp14FQE6tC_"
      },
      "execution_count": null,
      "outputs": []
    },
    {
      "cell_type": "code",
      "source": [
        "resultado_subtracao = [b - a for a, b in zip(antes_do_treinamento,apos_o_treinamento)]\n",
        "resultado_subtracao"
      ],
      "metadata": {
        "colab": {
          "base_uri": "https://localhost:8080/"
        },
        "id": "OZ1_olQT6uvq",
        "outputId": "c265a5dd-5ac1-4e16-a787-95dff04cc2ff"
      },
      "execution_count": null,
      "outputs": [
        {
          "output_type": "execute_result",
          "data": {
            "text/plain": [
              "[7, 5, 0, 7, 5, 4, 5, 1, 0, 7]"
            ]
          },
          "metadata": {},
          "execution_count": 37
        }
      ]
    },
    {
      "cell_type": "code",
      "source": [
        "from scipy.stats import ttest_rel"
      ],
      "metadata": {
        "id": "6kf0w6QE6yzi"
      },
      "execution_count": null,
      "outputs": []
    },
    {
      "cell_type": "markdown",
      "source": [
        "H0 antes do treinamento < apos o treinamento\n",
        "\n",
        "H1 antes do treinamento > apos o treinamento"
      ],
      "metadata": {
        "id": "DcA5-6WgmafY"
      }
    },
    {
      "cell_type": "code",
      "source": [
        "stats, p_valor = ttest_rel(apos_o_treinamento, antes_do_treinamento, alternative=\"greater\")"
      ],
      "metadata": {
        "id": "XPzotFqV62-X"
      },
      "execution_count": null,
      "outputs": []
    },
    {
      "cell_type": "markdown",
      "source": [
        "# Qui Quadrado\n"
      ],
      "metadata": {
        "id": "Rgybc1KEHoo1"
      }
    },
    {
      "cell_type": "code",
      "source": [
        "from scipy.stats import chi2_contingency\n",
        "\n",
        "# Dados (tabela de contingência)\n",
        "observed = [[67, 74, 45, 34, 44], [21, 12, 32, 32, 21]]  # Frequência observada\n",
        "\n",
        "# Teste de hipóteses\n",
        "chi2_stat, p_value, dof, expected = chi2_contingency(observed)\n",
        "\n",
        "print(\"Estatística Qui-Quadrado:\", chi2_stat)\n",
        "print(\"Valor p:\", p_value)"
      ],
      "metadata": {
        "colab": {
          "base_uri": "https://localhost:8080/"
        },
        "id": "trajhtzz-FUL",
        "outputId": "9ced01fd-f507-4446-9119-fd733b39a956"
      },
      "execution_count": null,
      "outputs": [
        {
          "output_type": "stream",
          "name": "stdout",
          "text": [
            "Estatística Qui-Quadrado: 27.327907072775968\n",
            "Valor p: 1.7063631121089738e-05\n"
          ]
        }
      ]
    },
    {
      "cell_type": "code",
      "source": [
        "\n",
        "from scipy.stats import chi2_contingency\n",
        "\n",
        "# Dados (tabela de contingência)\n",
        "observed = [[11416076, 40101950, 11667250, 65510053, 22126530],[212994,656000,236318,1450382,454588]]  # Frequência observada\n",
        "\n",
        "# Teste de hipóteses\n",
        "chi2_stat, p_value, dof, expected = chi2_contingency(observed)\n",
        "\n",
        "print(\"Estatística Qui-Quadrado:\", chi2_stat)\n",
        "print(\"Valor p:\", p_value)"
      ],
      "metadata": {
        "colab": {
          "base_uri": "https://localhost:8080/"
        },
        "id": "kA261DE-22-m",
        "outputId": "f19b3f48-12e8-4f14-d8da-56bcabf372d1"
      },
      "execution_count": null,
      "outputs": [
        {
          "output_type": "stream",
          "name": "stdout",
          "text": [
            "Estatística Qui-Quadrado: 42276.55681191326\n",
            "Valor p: 0.0\n"
          ]
        }
      ]
    },
    {
      "cell_type": "code",
      "source": [
        "mais_ricos = [113,89,58,37,7,33,40,24,0,21,46,17,4,5,13,13,1,9,7,2,7,2,4,4,3,6,8,4,0,11,2,3,5,0,64,0,0,0,7,4,20,0,4,8,0,20,19,0,3,1,15,4,1,4,1,10,3,4,0,5,0]\n"
      ],
      "metadata": {
        "id": "SpRPewIdjwPN"
      },
      "execution_count": null,
      "outputs": []
    },
    {
      "cell_type": "code",
      "source": [
        "menos_ricos = [2,6,1,0,0,0,0,1,7,0,5,8,1,0,5,9,0,2,1,7,0,2,4,0,1,0,0,0,0,0,0,0,8,20,1,0,0,0,9,0,4,4,1,1,1,3,2,1,0,0,0,2,0,0,0,0,3,0,1,0,0]\n"
      ],
      "metadata": {
        "id": "5_38Qr0aj6RG"
      },
      "execution_count": null,
      "outputs": []
    },
    {
      "cell_type": "markdown",
      "source": [
        "H0 = Menos ricos < Mais ricos\n",
        "\n",
        "H1 = Menos ricos > Mais ricos\n"
      ],
      "metadata": {
        "id": "SV4DCx2ile7C"
      }
    },
    {
      "cell_type": "code",
      "source": [
        "from scipy.stats import ttest_ind\n",
        "stats, p_valor = ttest_ind (menos_ricos, mais_ricos, alternative = \"greater\")\n",
        "\n"
      ],
      "metadata": {
        "id": "eAXjvdbVkBDo"
      },
      "execution_count": null,
      "outputs": []
    },
    {
      "cell_type": "code",
      "source": [
        "print(p_valor)"
      ],
      "metadata": {
        "colab": {
          "base_uri": "https://localhost:8080/"
        },
        "id": "yeobY1LslKKf",
        "outputId": "94d98c9b-d64c-4f81-99af-76a48c3cb6db"
      },
      "execution_count": null,
      "outputs": [
        {
          "output_type": "stream",
          "name": "stdout",
          "text": [
            "0.9999307106551164\n"
          ]
        }
      ]
    },
    {
      "cell_type": "code",
      "source": [
        "qualidade_antes = [88,90,89,80,84,99]\n",
        "qualidade_depois = [80,80,97,86,96,92]"
      ],
      "metadata": {
        "id": "royz3UGznPMw"
      },
      "execution_count": null,
      "outputs": []
    },
    {
      "cell_type": "markdown",
      "source": [
        "H0 = qualidade_antes > qualidade_depois\n",
        "\n",
        "H1 = qualidade_antes < qualidade_depois"
      ],
      "metadata": {
        "id": "dVwP4kuVnqlO"
      }
    },
    {
      "cell_type": "code",
      "source": [
        "from scipy.stats import ttest_rel\n",
        "\n",
        "stats, p_valor = ttest_rel(qualidade_antes, qualidade_depois, alternative=\"less\")"
      ],
      "metadata": {
        "id": "lr4cy7Q9nqMc"
      },
      "execution_count": null,
      "outputs": []
    },
    {
      "cell_type": "code",
      "source": [
        "print(p_valor)"
      ],
      "metadata": {
        "colab": {
          "base_uri": "https://localhost:8080/"
        },
        "id": "yxLWidWCoQBY",
        "outputId": "1d240b0b-e994-45e8-b652-ec84ea8ce4b8"
      },
      "execution_count": null,
      "outputs": [
        {
          "output_type": "stream",
          "name": "stdout",
          "text": [
            "0.48379287661390913\n"
          ]
        }
      ]
    }
  ]
}
{
  "nbformat": 4,
  "nbformat_minor": 0,
  "metadata": {
    "colab": {
      "provenance": []
    },
    "kernelspec": {
      "name": "python3",
      "display_name": "Python 3"
    },
    "language_info": {
      "name": "python"
    }
  },
  "cells": [
    {
      "cell_type": "markdown",
      "source": [
        "#Atividade para casa"
      ],
      "metadata": {
        "id": "0s2FMAzJwLB6"
      }
    },
    {
      "cell_type": "markdown",
      "source": [
        "- Hipótese - 1: A porcentagens de poluentes na água cairam?"
      ],
      "metadata": {
        "id": "mtookFgTwNjM"
      }
    },
    {
      "cell_type": "code",
      "execution_count": 1,
      "metadata": {
        "id": "Xl36qWccwAma"
      },
      "outputs": [],
      "source": [
        "import pandas as pd\n",
        "import numpy as np\n",
        "from statsmodels.stats.weightstats import ztest\n",
        "import statsmodels.stats.weightstats as teste_hipotese\n",
        "from scipy.stats import ttest_rel\n",
        "from scipy.stats import ttest_1samp\n",
        "from scipy.stats import ttest_ind\n",
        "from scipy.stats import chi2_contingency\n",
        "from scipy.stats import chi2\n",
        "from scipy.stats import shapiro\n",
        "from scipy import stats\n",
        "import statistics"
      ]
    },
    {
      "cell_type": "code",
      "source": [
        "teste_hipotese.ztest"
      ],
      "metadata": {
        "colab": {
          "base_uri": "https://localhost:8080/",
          "height": 187
        },
        "id": "qdp-7Biiybej",
        "outputId": "a59d3b1f-d694-4459-dcab-0e616a21afcc"
      },
      "execution_count": 2,
      "outputs": [
        {
          "output_type": "execute_result",
          "data": {
            "text/plain": [
              "<function statsmodels.stats.weightstats.ztest(x1, x2=None, value=0, alternative='two-sided', usevar='pooled', ddof=1.0)>"
            ],
            "text/html": [
              "<div style=\"max-width:800px; border: 1px solid var(--colab-border-color);\"><style>\n",
              "      pre.function-repr-contents {\n",
              "        overflow-x: auto;\n",
              "        padding: 8px 12px;\n",
              "        max-height: 500px;\n",
              "      }\n",
              "\n",
              "      pre.function-repr-contents.function-repr-contents-collapsed {\n",
              "        cursor: pointer;\n",
              "        max-height: 100px;\n",
              "      }\n",
              "    </style>\n",
              "    <pre style=\"white-space: initial; background:\n",
              "         var(--colab-secondary-surface-color); padding: 8px 12px;\n",
              "         border-bottom: 1px solid var(--colab-border-color);\"><b>statsmodels.stats.weightstats.ztest</b><br/>def ztest(x1, x2=None, value=0, alternative=&#x27;two-sided&#x27;, usevar=&#x27;pooled&#x27;, ddof=1.0)</pre><pre class=\"function-repr-contents function-repr-contents-collapsed\" style=\"\"><a class=\"filepath\" style=\"display:none\" href=\"#\">/usr/local/lib/python3.10/dist-packages/statsmodels/stats/weightstats.py</a>test for mean based on normal distribution, one or two samples\n",
              "\n",
              "In the case of two samples, the samples are assumed to be independent.\n",
              "\n",
              "Parameters\n",
              "----------\n",
              "x1 : array_like, 1-D or 2-D\n",
              "    first of the two independent samples\n",
              "x2 : array_like, 1-D or 2-D\n",
              "    second of the two independent samples\n",
              "value : float\n",
              "    In the one sample case, value is the mean of x1 under the Null\n",
              "    hypothesis.\n",
              "    In the two sample case, value is the difference between mean of x1 and\n",
              "    mean of x2 under the Null hypothesis. The test statistic is\n",
              "    `x1_mean - x2_mean - value`.\n",
              "alternative : str\n",
              "    The alternative hypothesis, H1, has to be one of the following\n",
              "\n",
              "       &#x27;two-sided&#x27;: H1: difference in means not equal to value (default)\n",
              "       &#x27;larger&#x27; :   H1: difference in means larger than value\n",
              "       &#x27;smaller&#x27; :  H1: difference in means smaller than value\n",
              "\n",
              "usevar : str, &#x27;pooled&#x27; or &#x27;unequal&#x27;\n",
              "    If ``pooled``, then the standard deviation of the samples is assumed to be\n",
              "    the same. If ``unequal``, then the standard deviation of the sample is\n",
              "    assumed to be different.\n",
              "ddof : int\n",
              "    Degrees of freedom use in the calculation of the variance of the mean\n",
              "    estimate. In the case of comparing means this is one, however it can\n",
              "    be adjusted for testing other statistics (proportion, correlation)\n",
              "\n",
              "Returns\n",
              "-------\n",
              "tstat : float\n",
              "    test statistic\n",
              "pvalue : float\n",
              "    pvalue of the t-test\n",
              "\n",
              "Notes\n",
              "-----\n",
              "usevar can be pooled or unequal in two sample case</pre>\n",
              "      <script>\n",
              "      if (google.colab.kernel.accessAllowed && google.colab.files && google.colab.files.view) {\n",
              "        for (const element of document.querySelectorAll('.filepath')) {\n",
              "          element.style.display = 'block'\n",
              "          element.onclick = (event) => {\n",
              "            event.preventDefault();\n",
              "            event.stopPropagation();\n",
              "            google.colab.files.view(element.textContent, 1487);\n",
              "          };\n",
              "        }\n",
              "      }\n",
              "      for (const element of document.querySelectorAll('.function-repr-contents')) {\n",
              "        element.onclick = (event) => {\n",
              "          event.preventDefault();\n",
              "          event.stopPropagation();\n",
              "          element.classList.toggle('function-repr-contents-collapsed');\n",
              "        };\n",
              "      }\n",
              "      </script>\n",
              "      </div>"
            ]
          },
          "metadata": {},
          "execution_count": 2
        }
      ]
    },
    {
      "cell_type": "code",
      "source": [
        "poluicao = pd.read_excel('/content/Atividade ON33 - S10.xlsx')\n",
        "\n",
        "# Exibir as primeiras linhas do DataFrame\n",
        "print(poluicao.head())"
      ],
      "metadata": {
        "colab": {
          "base_uri": "https://localhost:8080/"
        },
        "id": "SaE__z1vwSGn",
        "outputId": "9f30a2d5-f8d1-4dbb-a3a2-a278a0d2c42e"
      },
      "execution_count": 3,
      "outputs": [
        {
          "output_type": "stream",
          "name": "stdout",
          "text": [
            "   Antes  Depois\n",
            "0     88      80\n",
            "1     90      80\n",
            "2     89      97\n",
            "3     80      86\n",
            "4     84      96\n"
          ]
        }
      ]
    },
    {
      "cell_type": "code",
      "source": [
        "# Converter uma coluna específica em uma lista\n",
        "poluicao_antes = poluicao['Antes'].tolist()\n",
        "\n",
        "# Exibir a lista\n",
        "print(poluicao_antes)"
      ],
      "metadata": {
        "colab": {
          "base_uri": "https://localhost:8080/"
        },
        "id": "S01QofbKwSpe",
        "outputId": "177c5dc4-3405-4737-92cc-4185d5dd231d"
      },
      "execution_count": 4,
      "outputs": [
        {
          "output_type": "stream",
          "name": "stdout",
          "text": [
            "[88, 90, 89, 80, 84, 99, 85, 93, 94, 98, 88, 98, 85, 87, 91, 98, 81, 93, 94, 100, 97, 93, 97, 85, 90, 100, 89, 87, 80, 96, 87, 95, 90, 80, 86, 87, 100, 91, 81, 81, 100, 96, 93, 91, 89, 87, 94, 83, 100, 99, 94, 96, 84, 82, 92, 99, 93, 86, 95, 92, 89, 87, 100, 86, 80, 94, 84, 83, 93, 96, 95, 90, 80, 90, 88, 82, 99, 85, 81, 84, 83, 95, 87, 98, 94, 88, 82, 85, 97, 94, 85, 85, 91, 86, 91, 92, 90, 86, 86, 92]\n"
          ]
        }
      ]
    },
    {
      "cell_type": "code",
      "source": [
        "# Converter uma coluna específica em uma lista\n",
        "poluicao_depois = poluicao['Depois'].tolist()\n",
        "\n",
        "# Exibir a lista\n",
        "print(poluicao_depois)"
      ],
      "metadata": {
        "colab": {
          "base_uri": "https://localhost:8080/"
        },
        "id": "gFm6VU0IwUzs",
        "outputId": "bc74eaf7-8479-4000-e561-56501d965f63"
      },
      "execution_count": 5,
      "outputs": [
        {
          "output_type": "stream",
          "name": "stdout",
          "text": [
            "[80, 80, 97, 86, 96, 92, 80, 91, 96, 100, 82, 92, 91, 89, 100, 99, 83, 98, 100, 81, 87, 87, 88, 97, 90, 81, 81, 81, 99, 100, 82, 84, 85, 81, 100, 83, 86, 89, 82, 86, 92, 85, 85, 98, 90, 90, 97, 82, 90, 83, 87, 92, 80, 98, 84, 82, 87, 92, 92, 93, 86, 97, 83, 91, 81, 91, 99, 90, 85, 82, 81, 88, 87, 87, 80, 95, 88, 86, 97, 98, 99, 93, 90, 81, 80, 90, 92, 93, 84, 82, 88, 96, 98, 96, 87, 91, 82, 86, 89, 96]\n"
          ]
        }
      ]
    },
    {
      "cell_type": "code",
      "source": [
        "# Realizando o teste t pareado\n",
        "stats, p_value = ttest_rel(poluicao_depois, poluicao_antes, alternative=\"greater\")"
      ],
      "metadata": {
        "id": "ul5-K-wzwVVR"
      },
      "execution_count": 6,
      "outputs": []
    },
    {
      "cell_type": "code",
      "source": [
        "#Exibir resultado dos testes\n",
        "print(f\"T-stat: {stats}, p-value: {p_value}\")"
      ],
      "metadata": {
        "colab": {
          "base_uri": "https://localhost:8080/"
        },
        "id": "OGjA-2fBwW-R",
        "outputId": "46c22dea-f913-48fc-f0bd-59b7042a4107"
      },
      "execution_count": 7,
      "outputs": [
        {
          "output_type": "stream",
          "name": "stdout",
          "text": [
            "T-stat: -1.106644775400143, p-value: 0.864435340438523\n"
          ]
        }
      ]
    },
    {
      "cell_type": "code",
      "source": [
        "confianca = 0.95\n",
        "\n",
        "significancia = 1 - confianca\n",
        "\n",
        "if p_value < significancia:\n",
        "  print('Rejeitamos a Hipótese nula')\n",
        "else:\n",
        "  print('Aceitamos a Hipótese nula')"
      ],
      "metadata": {
        "colab": {
          "base_uri": "https://localhost:8080/"
        },
        "id": "WAk86NpGwYPc",
        "outputId": "9a46773b-c3f5-43ae-99ac-cf364e3bdf15"
      },
      "execution_count": 8,
      "outputs": [
        {
          "output_type": "stream",
          "name": "stdout",
          "text": [
            "Aceitamos a Hipótese nula\n"
          ]
        }
      ]
    },
    {
      "cell_type": "markdown",
      "source": [
        "**Sim, aceitamos a hipótese nula, ou seja, as porcentagens de poluentes na água cairam**."
      ],
      "metadata": {
        "id": "9_cqiDkpwb_w"
      }
    },
    {
      "cell_type": "markdown",
      "source": [
        "- Hipótese -2: A poluição está em 85%?"
      ],
      "metadata": {
        "id": "DnbJA08yweAL"
      }
    },
    {
      "cell_type": "markdown",
      "source": [
        "Hipótese nula: A média da poluição é 85.\n",
        "\n",
        "Hipótese alternativa: A média da poluição é diferente de 85."
      ],
      "metadata": {
        "id": "0SNBKSd43NVf"
      }
    },
    {
      "cell_type": "code",
      "source": [
        "# Calcular a média da poluição antes\n",
        "media_poluicao_antes = statistics.mean(poluicao_antes)\n",
        "\n",
        "# Exibir a média\n",
        "print(f\"Média da poluição antes: {media_poluicao_antes}\")"
      ],
      "metadata": {
        "colab": {
          "base_uri": "https://localhost:8080/"
        },
        "id": "HkY_mhHF3m8y",
        "outputId": "cb4c0ec7-9633-4296-e82f-4a4d38079c21"
      },
      "execution_count": 9,
      "outputs": [
        {
          "output_type": "stream",
          "name": "stdout",
          "text": [
            "Média da poluição antes: 90.05\n"
          ]
        }
      ]
    },
    {
      "cell_type": "code",
      "source": [
        "# Calcular a média da poluição depois\n",
        "media_poluicao_depois = statistics.mean(poluicao_depois)\n",
        "\n",
        "# Exibir a média\n",
        "print(f\"Média da poluição depois: {media_poluicao_depois}\")"
      ],
      "metadata": {
        "colab": {
          "base_uri": "https://localhost:8080/"
        },
        "id": "p9pmT9B-4D6n",
        "outputId": "7c854c2f-f06a-4ae3-d329-0cfd76f8c5c5"
      },
      "execution_count": 10,
      "outputs": [
        {
          "output_type": "stream",
          "name": "stdout",
          "text": [
            "Média da poluição depois: 89.06\n"
          ]
        }
      ]
    },
    {
      "cell_type": "code",
      "source": [
        "# Calcular a média da poluição antes e depois\n",
        "media_poluicao_antes = np.mean(poluicao_antes)\n",
        "media_poluicao_depois = np.mean(poluicao_depois)\n",
        "\n",
        "# Calcular a média geral (antes e depois)\n",
        "media_poluicao_geral = (media_poluicao_antes + media_poluicao_depois) / 2\n",
        "\n",
        "# Exibir as médias\n",
        "print(f\"Média da poluição antes: {media_poluicao_antes}\")\n",
        "print(f\"Média da poluição depois: {media_poluicao_depois}\")\n",
        "print(f\"Média geral: {media_poluicao_geral}\")\n"
      ],
      "metadata": {
        "colab": {
          "base_uri": "https://localhost:8080/"
        },
        "id": "cZF2upxv40LS",
        "outputId": "edf8599b-8662-45a8-f917-8d5a0fe066d5"
      },
      "execution_count": 11,
      "outputs": [
        {
          "output_type": "stream",
          "name": "stdout",
          "text": [
            "Média da poluição antes: 90.05\n",
            "Média da poluição depois: 89.06\n",
            "Média geral: 89.555\n"
          ]
        }
      ]
    },
    {
      "cell_type": "code",
      "source": [
        "# Executar o teste t pareado\n",
        "stats, p_value = ttest_rel(poluicao_antes, poluicao_depois, alternative=\"greater\")"
      ],
      "metadata": {
        "id": "RAMVA22E0z__"
      },
      "execution_count": 12,
      "outputs": []
    },
    {
      "cell_type": "code",
      "source": [
        "# Exibir os resultados\n",
        "print(f'Estatística t: {stats:.4f}')\n",
        "print(f'Valor p: {p_value:.4f}')"
      ],
      "metadata": {
        "colab": {
          "base_uri": "https://localhost:8080/"
        },
        "id": "BhdS3udw01jF",
        "outputId": "d106a646-b2f9-46ba-c766-10bcc31e91ab"
      },
      "execution_count": 13,
      "outputs": [
        {
          "output_type": "stream",
          "name": "stdout",
          "text": [
            "Estatística t: 1.1066\n",
            "Valor p: 0.1356\n"
          ]
        }
      ]
    },
    {
      "cell_type": "markdown",
      "source": [
        "Escolher um nível de significância, como 0,05, que indica um nível de confiança de 95%."
      ],
      "metadata": {
        "id": "6eUFP0zt3LZg"
      }
    },
    {
      "cell_type": "code",
      "source": [
        "# Verificar se rejeitamos a hipótese nula\n",
        "confianca = 0.95\n",
        "\n",
        "significancia = 1 - confianca\n",
        "\n",
        "if p_value < significancia:\n",
        "    print(\"Rejeitamos a hipótese nula. Há uma diferença significativa entre os níveis de poluição antes e depois.\")\n",
        "else:\n",
        "    print(\"Aceitamos a Hipótese nula. Não há uma diferença significativa entre os níveis de poluição antes e depois.\")\n"
      ],
      "metadata": {
        "colab": {
          "base_uri": "https://localhost:8080/"
        },
        "id": "vNJFY8YOwbfi",
        "outputId": "60ab422e-24f4-4024-991b-d04d226699ba"
      },
      "execution_count": 14,
      "outputs": [
        {
          "output_type": "stream",
          "name": "stdout",
          "text": [
            "Aceitamos a Hipótese nula. Não há uma diferença significativa entre os níveis de poluição antes e depois.\n"
          ]
        }
      ]
    },
    {
      "cell_type": "markdown",
      "source": [
        "Desafio Teste Q (quadrado)"
      ],
      "metadata": {
        "id": "VSmPtKsKwgVm"
      }
    },
    {
      "cell_type": "markdown",
      "source": [
        "- Usando dados do [Observatório dos Direitos Humanos](https://observadh.mdh.gov.br/), quero saber se tem mais heteros em um estado do que em outro."
      ],
      "metadata": {
        "id": "vfsnX27zwir_"
      }
    },
    {
      "cell_type": "markdown",
      "source": [
        "- [Obter Dados 1](https://experience.arcgis.com/experience/54febd2948d54d68a1a462581f89d920/page/LGBTQIA%2B---Painel-de-dados/)\n",
        "- [Obter Dados 2](https://app.powerbi.com/view?r=eyJrIjoiYzMzOTllZDEtYThkZS00NTMwLWI1OTUtN2QwMjU0MjkyZWQ3IiwidCI6ImZiYTViMTc4LTNhZjEtNDQyMC05NjZiLWJmNTE2M2U2YjFkYSJ9)"
      ],
      "metadata": {
        "id": "pMWMIPcmAMIb"
      }
    },
    {
      "cell_type": "markdown",
      "source": [
        "**Ficha técnica**\n",
        "\n",
        "Elaboração e análise:  Ministério dos Direitos Humanos e da Cidadania\n",
        "\n",
        "Contato:   observadh@mdh.gov.br\n",
        "\n",
        "Fontes de informação utilizadas:\n",
        "\n",
        " - Pesquisa Nacional de Saúde (PNS) – 2019\n",
        "\n",
        "- Instituto Brasileiro de Geografia e Estatística (IBGE)"
      ],
      "metadata": {
        "id": "SupbuzpkAjFL"
      }
    },
    {
      "cell_type": "code",
      "source": [
        "LGBTQIAPN = pd.read_excel('/content/LGBTQIAPN+.xlsx')\n",
        "\n",
        "# Exibir as primeiras linhas do DataFrame\n",
        "print(LGBTQIAPN.head(7))"
      ],
      "metadata": {
        "colab": {
          "base_uri": "https://localhost:8080/"
        },
        "id": "qoL8NvIC-zmK",
        "outputId": "bf65e33d-6ed5-46c4-cf6a-c904c0c5de7b"
      },
      "execution_count": 15,
      "outputs": [
        {
          "output_type": "stream",
          "name": "stdout",
          "text": [
            "    Região  UF  Heterossexual  Heterossexual %  Bissexual  Bissexual %  \\\n",
            "0      Sul  PR        8335881             94.7      62869          0.7   \n",
            "1      Sul  RS        8465509             94.8      67685          0.8   \n",
            "2      Sul  SC        5325140             94.4      36206          0.6   \n",
            "3  Sudeste  ES        2953094             97.4      20193          0.7   \n",
            "4  Sudeste  MG       15870531             95.7      76002          0.5   \n",
            "5  Sudeste  RJ       13006691             94.8     127663          0.9   \n",
            "6  Sudeste  SP       33679737             94.0     287111          0.8   \n",
            "\n",
            "   Gays e Lésbicas (homossexual)  Gays e Lésbicas (homossexual) %  \\\n",
            "0                         112939                              1.3   \n",
            "1                         103701                              1.2   \n",
            "2                          56708                              1.0   \n",
            "3                          22554                              0.7   \n",
            "4                         154601                              0.9   \n",
            "5                         190550                              1.4   \n",
            "6                         540196                              1.5   \n",
            "\n",
            "   Outra orientação  Outra orientação %  Não sabe  Não sabe %  \\\n",
            "0              7925                 0.1     82745         0.9   \n",
            "1              3734                 0.0     69853         0.8   \n",
            "2              2821                 0.0     48832         0.9   \n",
            "3                 0                 0.0     11505         0.4   \n",
            "4              8028                 0.0    137066         0.8   \n",
            "5              4380                 0.0     57522         0.4   \n",
            "6             19104                 0.1    446159         1.2   \n",
            "\n",
            "   Recusou-se a responder  Recusou-se a responder %  \n",
            "0                  197009                       2.2  \n",
            "1                  221422                       2.5  \n",
            "2                  172744                       3.1  \n",
            "3                   24315                       0.8  \n",
            "4                  332705                       2.0  \n",
            "5                  328503                       2.4  \n",
            "6                  850283                       2.4  \n"
          ]
        }
      ]
    },
    {
      "cell_type": "code",
      "source": [
        "# Exibir as ultimas linhas do DataFrame\n",
        "print(LGBTQIAPN.tail(10))  # Mostra as últimas 10 linhas"
      ],
      "metadata": {
        "colab": {
          "base_uri": "https://localhost:8080/"
        },
        "id": "o8xUk7ybOQcY",
        "outputId": "56ab6650-10a1-48a0-a525-aa64da001e9b"
      },
      "execution_count": 16,
      "outputs": [
        {
          "output_type": "stream",
          "name": "stdout",
          "text": [
            "          Região  UF  Heterossexual  Heterossexual %  Bissexual  Bissexual %  \\\n",
            "17      Nordeste  MA        4562430             94.1      23530          0.5   \n",
            "18      Nordeste  PB        2890622             96.8      21034          0.7   \n",
            "19      Nordeste  PE        6987521             98.4      29545          0.4   \n",
            "20      Nordeste  PI        2249339             91.9      14141          0.6   \n",
            "21      Nordeste  RN        2457404             93.8      20958          0.8   \n",
            "22      Nordeste  SE        1639579             96.3       7118          0.4   \n",
            "23  Centro-Oeste  DF        2126957             92.2      22689          1.0   \n",
            "24  Centro-Oeste  GO        5020607             95.7      17542          0.3   \n",
            "25  Centro-Oeste  MS        1835492             92.5      15467          0.8   \n",
            "26  Centro-Oeste  MT        2433020             96.9      11306          0.5   \n",
            "\n",
            "    Gays e Lésbicas (homossexual)  Gays e Lésbicas (homossexual) %  \\\n",
            "17                          45578                              0.9   \n",
            "18                          22521                              0.8   \n",
            "19                          41764                              0.6   \n",
            "20                          28098                              1.1   \n",
            "21                          25363                              1.0   \n",
            "22                          17735                              1.0   \n",
            "23                          43123                              1.9   \n",
            "24                          43671                              0.8   \n",
            "25                          24559                              1.2   \n",
            "26                          24609                              1.0   \n",
            "\n",
            "    Outra orientação  Outra orientação %  Não sabe  Não sabe %  \\\n",
            "17                 0                 0.0     87245         1.8   \n",
            "18                 0                 0.0     20041         0.7   \n",
            "19             11058                 0.2      6893         0.1   \n",
            "20              3210                 0.1     64250         2.6   \n",
            "21              1876                 0.1     33650         1.3   \n",
            "22               233                 0.0      6040         0.4   \n",
            "23              2181                 0.1     31763         1.4   \n",
            "24              3181                 0.1     80592         1.5   \n",
            "25                 0                 0.0     37558         1.9   \n",
            "26              4666                 0.2     16782         0.7   \n",
            "\n",
            "    Recusou-se a responder  Recusou-se a responder %  \n",
            "17                  131430                       2.7  \n",
            "18                   33470                       1.1  \n",
            "19                   22440                       0.3  \n",
            "20                   89466                       3.7  \n",
            "21                   80184                       3.1  \n",
            "22                   32445                       1.9  \n",
            "23                   81432                       3.5  \n",
            "24                   79698                       1.5  \n",
            "25                   71029                       3.6  \n",
            "26                   19715                       0.8  \n"
          ]
        }
      ]
    },
    {
      "cell_type": "code",
      "source": [
        "# Resumo do DataFrame\n",
        "LGBTQIAPN.info()"
      ],
      "metadata": {
        "colab": {
          "base_uri": "https://localhost:8080/"
        },
        "id": "EH8JaI_OMeDl",
        "outputId": "83508554-b46e-44a0-f9e0-5ab9b712f781"
      },
      "execution_count": 17,
      "outputs": [
        {
          "output_type": "stream",
          "name": "stdout",
          "text": [
            "<class 'pandas.core.frame.DataFrame'>\n",
            "RangeIndex: 27 entries, 0 to 26\n",
            "Data columns (total 14 columns):\n",
            " #   Column                           Non-Null Count  Dtype  \n",
            "---  ------                           --------------  -----  \n",
            " 0   Região                           27 non-null     object \n",
            " 1   UF                               27 non-null     object \n",
            " 2   Heterossexual                    27 non-null     int64  \n",
            " 3   Heterossexual %                  27 non-null     float64\n",
            " 4   Bissexual                        27 non-null     int64  \n",
            " 5   Bissexual %                      27 non-null     float64\n",
            " 6   Gays e Lésbicas (homossexual)    27 non-null     int64  \n",
            " 7   Gays e Lésbicas (homossexual) %  27 non-null     float64\n",
            " 8   Outra orientação                 27 non-null     int64  \n",
            " 9   Outra orientação %               27 non-null     float64\n",
            " 10  Não sabe                         27 non-null     int64  \n",
            " 11  Não sabe %                       27 non-null     float64\n",
            " 12  Recusou-se a responder           27 non-null     int64  \n",
            " 13  Recusou-se a responder %         27 non-null     float64\n",
            "dtypes: float64(6), int64(6), object(2)\n",
            "memory usage: 3.1+ KB\n"
          ]
        }
      ]
    },
    {
      "cell_type": "code",
      "source": [
        "#Criando um novo DF apartir da base LGBTQIAPN\n",
        "Heteros_Estado = ['Região', 'UF', 'Heterossexual', 'Bissexual']\n",
        "Heteros_Estado = LGBTQIAPN[Heteros_Estado]\n",
        "\n",
        "#Exibir novo DF só com as colunas selecionadas\n",
        "print(Heteros_Estado.head(28))"
      ],
      "metadata": {
        "colab": {
          "base_uri": "https://localhost:8080/"
        },
        "id": "l-ALumDKIZP5",
        "outputId": "e106a557-bb3f-4ddc-afc4-aa9531762b60"
      },
      "execution_count": 18,
      "outputs": [
        {
          "output_type": "stream",
          "name": "stdout",
          "text": [
            "          Região  UF  Heterossexual  Bissexual\n",
            "0            Sul  PR        8335881      62869\n",
            "1            Sul  RS        8465509      67685\n",
            "2            Sul  SC        5325140      36206\n",
            "3        Sudeste  ES        2953094      20193\n",
            "4        Sudeste  MG       15870531      76002\n",
            "5        Sudeste  RJ       13006691     127663\n",
            "6        Sudeste  SP       33679737     287111\n",
            "7          Norte  AC         566920       4336\n",
            "8          Norte  AM        2500961      28200\n",
            "9          Norte  AP         524701       6281\n",
            "10         Norte  PA        5501327      32626\n",
            "11         Norte  RO        1149935       9199\n",
            "12         Norte  RR         346540       2711\n",
            "13         Norte  TO        1076866       1852\n",
            "14      Nordeste  AL        2321574      10913\n",
            "15      Nordeste  BA       10525425      93808\n",
            "16      Nordeste  CE        6468056      33802\n",
            "17      Nordeste  MA        4562430      23530\n",
            "18      Nordeste  PB        2890622      21034\n",
            "19      Nordeste  PE        6987521      29545\n",
            "20      Nordeste  PI        2249339      14141\n",
            "21      Nordeste  RN        2457404      20958\n",
            "22      Nordeste  SE        1639579       7118\n",
            "23  Centro-Oeste  DF        2126957      22689\n",
            "24  Centro-Oeste  GO        5020607      17542\n",
            "25  Centro-Oeste  MS        1835492      15467\n",
            "26  Centro-Oeste  MT        2433020      11306\n"
          ]
        }
      ]
    },
    {
      "cell_type": "code",
      "source": [
        "# Resumo do DataFrame\n",
        "Heteros_Estado.info()"
      ],
      "metadata": {
        "colab": {
          "base_uri": "https://localhost:8080/"
        },
        "id": "Zq8cuVXyKx45",
        "outputId": "00718621-d8aa-478f-83b1-2296bd0992c1"
      },
      "execution_count": 19,
      "outputs": [
        {
          "output_type": "stream",
          "name": "stdout",
          "text": [
            "<class 'pandas.core.frame.DataFrame'>\n",
            "RangeIndex: 27 entries, 0 to 26\n",
            "Data columns (total 4 columns):\n",
            " #   Column         Non-Null Count  Dtype \n",
            "---  ------         --------------  ----- \n",
            " 0   Região         27 non-null     object\n",
            " 1   UF             27 non-null     object\n",
            " 2   Heterossexual  27 non-null     int64 \n",
            " 3   Bissexual      27 non-null     int64 \n",
            "dtypes: int64(2), object(2)\n",
            "memory usage: 992.0+ bytes\n"
          ]
        }
      ]
    },
    {
      "cell_type": "code",
      "source": [
        "# Resumo do DataFrame\n",
        "Heteros_Estado.info()"
      ],
      "metadata": {
        "colab": {
          "base_uri": "https://localhost:8080/"
        },
        "id": "H28Xxi_tf9si",
        "outputId": "f1fe6cbd-b078-4f7a-da6f-334b346f95aa"
      },
      "execution_count": 20,
      "outputs": [
        {
          "output_type": "stream",
          "name": "stdout",
          "text": [
            "<class 'pandas.core.frame.DataFrame'>\n",
            "RangeIndex: 27 entries, 0 to 26\n",
            "Data columns (total 4 columns):\n",
            " #   Column         Non-Null Count  Dtype \n",
            "---  ------         --------------  ----- \n",
            " 0   Região         27 non-null     object\n",
            " 1   UF             27 non-null     object\n",
            " 2   Heterossexual  27 non-null     int64 \n",
            " 3   Bissexual      27 non-null     int64 \n",
            "dtypes: int64(2), object(2)\n",
            "memory usage: 992.0+ bytes\n"
          ]
        }
      ]
    },
    {
      "cell_type": "code",
      "source": [
        "# Encontrar linhas com pelo menos um valor nulo\n",
        "print(Heteros_Estado[Heteros_Estado.isnull().any(axis=1)])"
      ],
      "metadata": {
        "colab": {
          "base_uri": "https://localhost:8080/"
        },
        "id": "KMXkKkpjhNV1",
        "outputId": "3e1eb568-b181-4d0c-b879-93712326bd23"
      },
      "execution_count": 21,
      "outputs": [
        {
          "output_type": "stream",
          "name": "stdout",
          "text": [
            "Empty DataFrame\n",
            "Columns: [Região, UF, Heterossexual, Bissexual]\n",
            "Index: []\n"
          ]
        }
      ]
    },
    {
      "cell_type": "code",
      "source": [
        "# Contar o número total de valores nulos no DataFrame\n",
        "total_nulos = Heteros_Estado.isnull().sum().sum()\n",
        "print(f'Total de valores nulos: {total_nulos}')"
      ],
      "metadata": {
        "colab": {
          "base_uri": "https://localhost:8080/"
        },
        "id": "2wDY891ThPDZ",
        "outputId": "1d2dfd3e-f5ae-4c2e-a467-191dd6cdffc8"
      },
      "execution_count": 22,
      "outputs": [
        {
          "output_type": "stream",
          "name": "stdout",
          "text": [
            "Total de valores nulos: 0\n"
          ]
        }
      ]
    },
    {
      "cell_type": "code",
      "source": [
        "# Teste de hipóteses\n",
        "chi2_stat, p_value, dof, expected = chi2_contingency(Heteros_Estado['Heterossexual'], Heteros_Estado['Bissexual'])"
      ],
      "metadata": {
        "id": "ogWIT9r_KmGL"
      },
      "execution_count": 23,
      "outputs": []
    },
    {
      "cell_type": "code",
      "source": [
        "# Exibir os resultados\n",
        "print(f\"Estatística do qui-quadrado: {chi2_stat:.4f}\")\n",
        "print(f\"Valor p: {p_value:.4f}\")"
      ],
      "metadata": {
        "colab": {
          "base_uri": "https://localhost:8080/"
        },
        "id": "0tmt82MIA_xU",
        "outputId": "b6a98b5b-2f47-4b34-a8f0-5774001257af"
      },
      "execution_count": 26,
      "outputs": [
        {
          "output_type": "stream",
          "name": "stdout",
          "text": [
            "Estatística do qui-quadrado: 0.0000\n",
            "Valor p: 1.0000\n"
          ]
        }
      ]
    },
    {
      "cell_type": "code",
      "source": [
        "# Verificar se rejeitamos a hipótese nula\n",
        "confianca = 0.95\n",
        "\n",
        "significancia = 1 - confianca\n",
        "\n",
        "if p_value < significancia:\n",
        "    print(\"Rejeitamos a hipótese nula. Há uma diferença significativa entre Heterossexuais e Bissexuais por estado.\")\n",
        "else:\n",
        "    print(\"Aceitamos a Hipótese nula. Não há uma diferença significativa entre Heterossexuais e Bissexuais por estado.\")"
      ],
      "metadata": {
        "colab": {
          "base_uri": "https://localhost:8080/"
        },
        "id": "paPa4oGHGAgd",
        "outputId": "f093c42d-1c03-4bb0-9f9c-61055a504004"
      },
      "execution_count": 27,
      "outputs": [
        {
          "output_type": "stream",
          "name": "stdout",
          "text": [
            "Aceitamos a Hipótese nula. Não há uma diferença significativa entre os níveis de poluição antes e depois.\n"
          ]
        }
      ]
    },
    {
      "cell_type": "markdown",
      "source": [
        "O resultado indica que não há evidência suficiente para afirmar que há uma diferença significativa entre as proporções de Heterossexuais e Bissexuais por estado com base nos dados que analisamos!"
      ],
      "metadata": {
        "id": "RaoEN6kJoDPw"
      }
    }
  ]
}
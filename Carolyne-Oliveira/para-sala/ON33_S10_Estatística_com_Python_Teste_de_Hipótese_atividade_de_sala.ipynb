{
  "nbformat": 4,
  "nbformat_minor": 0,
  "metadata": {
    "colab": {
      "provenance": []
    },
    "kernelspec": {
      "name": "python3",
      "display_name": "Python 3"
    },
    "language_info": {
      "name": "python"
    }
  },
  "cells": [
    {
      "cell_type": "code",
      "execution_count": 19,
      "metadata": {
        "id": "4xft3E_o7YUF"
      },
      "outputs": [],
      "source": [
        "import math\n",
        "import random"
      ]
    },
    {
      "cell_type": "markdown",
      "source": [
        "# Estatistica descritiva\n",
        "## Média\n",
        "\n",
        "O calculo da média representa a soma de todos os itens de uma lista e divide os valores pelo tamanho de itens da lista"
      ],
      "metadata": {
        "id": "TC5HkTql8P2c"
      }
    },
    {
      "cell_type": "code",
      "source": [
        "def media(valores):\n",
        "  soma = 0\n",
        "  for valor in valores:\n",
        "    soma += valor;\n",
        "  return soma / len(valores)"
      ],
      "metadata": {
        "id": "M7_xBwYn7oCz"
      },
      "execution_count": 20,
      "outputs": []
    },
    {
      "cell_type": "markdown",
      "source": [
        "## Mediana\n",
        "A médiana é calculada pegando o valor que está no meio da lista, caso a lista seja impar a mediana é a posição central exatamente, caso o tamanho da lista seja par, o valor da mediana é a média dos dois valores ao centro"
      ],
      "metadata": {
        "id": "7ThMCSRN9HuO"
      }
    },
    {
      "cell_type": "code",
      "source": [
        "def mediana(valores):\n",
        "  valores.sort()\n",
        "  index_central = len(valores)//2\n",
        "  if len(valores)%2 == 0:\n",
        "    lista_central = [valores[index_central - 1], valores[index_central]]\n",
        "    return media(lista_central)\n",
        "  else:\n",
        "    return valores[index_central]"
      ],
      "metadata": {
        "id": "sKw82L227tHb"
      },
      "execution_count": 21,
      "outputs": []
    },
    {
      "cell_type": "markdown",
      "source": [
        "## Moda\n",
        "A moda é o valor que mais aparece em uma lista, a melhor forma de calcular a moda é primeiro determinar a frequencia de cada item, apartir dai é possivel que uma lista seja monomodal (uma moda), bimodal (duas modas), multimodal (muitas modas), ou sem moda, para ela ser considerada sem moda nenhum dos itens da lista pode se repetir, isso é, a frequencia de todos os itens é 1, caso a frequencia seja maior que um a lista já tem alguma moda"
      ],
      "metadata": {
        "id": "AVFKNKxv9j4s"
      }
    },
    {
      "cell_type": "code",
      "source": [
        "def moda(valores):\n",
        "\n",
        "  frequencias = {}\n",
        "  for valor in valores:\n",
        "    if valor in frequencias:\n",
        "      frequencias[valor] += 1\n",
        "    else:\n",
        "      frequencias[valor] = 1\n",
        "\n",
        "  moda = []\n",
        "\n",
        "  max_frequencia = 0\n",
        "  for num, frequencia in frequencias.items():\n",
        "    if frequencia > max_frequencia:\n",
        "      max_frequencia = frequencia\n",
        "      moda = []\n",
        "      moda.append(num)\n",
        "    elif frequencia == max_frequencia:\n",
        "      moda.append(num)\n",
        "\n",
        "  if max_frequencia == 1:\n",
        "    return []\n",
        "  else:\n",
        "    return moda"
      ],
      "metadata": {
        "id": "I65l6WLH7vsq"
      },
      "execution_count": 22,
      "outputs": []
    },
    {
      "cell_type": "markdown",
      "source": [
        "## Desvio Padrão\n",
        "\n",
        "O desvio padrão representa o quanto os valores da lista estão longe ou perto da média, ele é calculado pela seguinte formula:\n",
        "\n",
        "![1_PCMeI7gmHjcNa6wQPVDXsQ.png](data:image/png;base64,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)\n",
        "\n",
        "Que representa a somatória dos itens menos a média dividido pelo numero de itens menos 1, tudo isso ao quadrado"
      ],
      "metadata": {
        "id": "tJMJTH_d-ksX"
      }
    },
    {
      "cell_type": "code",
      "source": [
        "def variancia(valores):\n",
        "  val_media = media(valores)\n",
        "\n",
        "  soma_quadrados = 0\n",
        "\n",
        "  for valor in valores:\n",
        "    soma_quadrados += (valor - val_media) ** 2\n",
        "\n",
        "  return soma_quadrados / (len(valores) - 1)\n",
        "\n",
        "def desvio_padrao(valores):\n",
        "  return math.sqrt(variancia(valores))"
      ],
      "metadata": {
        "id": "D1WlAzOO7y52"
      },
      "execution_count": 23,
      "outputs": []
    },
    {
      "cell_type": "markdown",
      "source": [
        "#Quartil"
      ],
      "metadata": {
        "id": "GOflhpp_S184"
      }
    },
    {
      "cell_type": "code",
      "source": [
        "valores = [14,4,11,20,6,18,15,19,14,9,7,9,2,12,1,9,8,8,6,20]\n",
        "\n",
        "valores.sort()\n",
        "index_central = len(valores) // 2\n",
        "\n",
        "print(valores[:index_central]) #--> primeira parte da minha lista, até o index central\n",
        "print(valores[index_central:]) #--> segunda parte\n",
        "# : significa até, ou seja, quero que me retorne início da lista até o index_central.\n",
        "# já na segunda parte eu quero que me retorne o numero do índice_central até o final da lista.\n",
        "\n"
      ],
      "metadata": {
        "colab": {
          "base_uri": "https://localhost:8080/"
        },
        "id": "xQgdIk5ZS33S",
        "outputId": "0264acc4-1391-4f54-be3a-8a6a0e4043d2"
      },
      "execution_count": 24,
      "outputs": [
        {
          "output_type": "stream",
          "name": "stdout",
          "text": [
            "[1, 2, 4, 6, 6, 7, 8, 8, 9, 9]\n",
            "[9, 11, 12, 14, 14, 15, 18, 19, 20, 20]\n"
          ]
        }
      ]
    },
    {
      "cell_type": "code",
      "source": [
        "valores = [14,4,11,20,6,18,15,19,14,9,7,9,2,12,1,9,8,8,6,20]\n",
        "\n",
        "valores.sort()\n",
        "index_central = len(valores) // 2\n",
        "\n",
        "if len(valores) % 2 == 0:\n",
        "  primeira_metade = valores[:index_central-1]\n",
        "  segunda_metade = valores[index_central+1:]\n",
        "else:\n",
        "  primeira_metade = valores[:index_central]\n",
        "  segunda_metade = valores[index_central+1:]\n",
        "\n",
        "print(primeira_metade)\n",
        "print(segunda_metade)"
      ],
      "metadata": {
        "colab": {
          "base_uri": "https://localhost:8080/"
        },
        "id": "wVofu6oJXSY2",
        "outputId": "958fb8b2-81f3-4a5d-9983-e4c2cba15ec0"
      },
      "execution_count": 25,
      "outputs": [
        {
          "output_type": "stream",
          "name": "stdout",
          "text": [
            "[1, 2, 4, 6, 6, 7, 8, 8, 9]\n",
            "[11, 12, 14, 14, 15, 18, 19, 20, 20]\n"
          ]
        }
      ]
    },
    {
      "cell_type": "code",
      "source": [
        "def divide_lista(valores):\n",
        "  valores.sort()\n",
        "  index_central = len(valores)//2\n",
        "  if len(valores)%2 == 0:\n",
        "    return [valores[:index_central-1] , valores[index_central+1:]]\n",
        "  else:\n",
        "    return [valores[:index_central] , valores[index_central+1:]]"
      ],
      "metadata": {
        "id": "Amg0_O7vZMWk"
      },
      "execution_count": 26,
      "outputs": []
    },
    {
      "cell_type": "code",
      "source": [
        "dados = [14,4,11,20,6,18,15,19,14,9,7,9,2,12,1,9,8,8,6,20]"
      ],
      "metadata": {
        "id": "VTe0kwslYU7A"
      },
      "execution_count": 27,
      "outputs": []
    },
    {
      "cell_type": "code",
      "source": [
        "valores_divididos = divide_lista(dados)\n",
        "\n",
        "print(\"Q1\",mediana(valores_divididos[0])) #25%\n",
        "print(\"Q2\",mediana(dados))                #50% - mediana\n",
        "print(\"Q3\",mediana(valores_divididos[1])) #75%"
      ],
      "metadata": {
        "colab": {
          "base_uri": "https://localhost:8080/"
        },
        "id": "yXenS3rGYZ0L",
        "outputId": "86a52627-6574-4ae3-858f-5517bb686b1a"
      },
      "execution_count": 28,
      "outputs": [
        {
          "output_type": "stream",
          "name": "stdout",
          "text": [
            "Q1 6\n",
            "Q2 9.0\n",
            "Q3 15\n"
          ]
        }
      ]
    },
    {
      "cell_type": "code",
      "source": [
        "def quartis(valores):\n",
        "  valores_divididos = divide_lista(valores)\n",
        "  return [mediana(valores_divididos[0]),mediana(valores),mediana(valores_divididos[1])]"
      ],
      "metadata": {
        "id": "qubkj7QlaCYY"
      },
      "execution_count": 29,
      "outputs": []
    },
    {
      "cell_type": "code",
      "source": [
        "dados_quartis = quartis(dados)\n",
        "\n",
        "print(\"Quartis\",dados_quartis) #--> retorna uma lista com os quartis\n",
        "\n",
        "print(\"Q1\",dados_quartis[0]) #25%\n",
        "print(\"Q2\",dados_quartis[1]) #50% - mediana\n",
        "print(\"Q3\",dados_quartis[2]) #75%"
      ],
      "metadata": {
        "colab": {
          "base_uri": "https://localhost:8080/"
        },
        "id": "Vaon9zb_aLfr",
        "outputId": "72d06323-5138-47de-a929-55d920763820"
      },
      "execution_count": 30,
      "outputs": [
        {
          "output_type": "stream",
          "name": "stdout",
          "text": [
            "Quartis [6, 9.0, 15]\n",
            "Q1 6\n",
            "Q2 9.0\n",
            "Q3 15\n"
          ]
        }
      ]
    },
    {
      "cell_type": "code",
      "source": [
        "def primeiro_quartil(valores):\n",
        "  valores_divididos = divide_lista(valores)\n",
        "  return mediana(valores_divididos[0])"
      ],
      "metadata": {
        "id": "i3r4ngTfauLl"
      },
      "execution_count": 31,
      "outputs": []
    },
    {
      "cell_type": "code",
      "source": [
        "def segundo_quartil(valores):\n",
        "  return mediana(valores)"
      ],
      "metadata": {
        "id": "Tp3DkBNLbAF9"
      },
      "execution_count": 32,
      "outputs": []
    },
    {
      "cell_type": "code",
      "source": [
        "def terceiro_quartil(valores):\n",
        "  valores_divididos = divide_lista(valores)\n",
        "  return mediana(valores_divididos[1])"
      ],
      "metadata": {
        "id": "Ao23pAuTbMij"
      },
      "execution_count": 33,
      "outputs": []
    },
    {
      "cell_type": "code",
      "source": [
        "print(\"Q1\",primeiro_quartil(valores)) #25%\n",
        "print(\"Q2\",mediana(valores)) #50% - mediana\n",
        "print(\"Q3\",terceiro_quartil(valores)) #75%"
      ],
      "metadata": {
        "colab": {
          "base_uri": "https://localhost:8080/"
        },
        "id": "1C-hdIR9bYui",
        "outputId": "9e5dd4f9-fd24-4fec-c27c-c511d1d5d2c3"
      },
      "execution_count": 34,
      "outputs": [
        {
          "output_type": "stream",
          "name": "stdout",
          "text": [
            "Q1 6\n",
            "Q2 9.0\n",
            "Q3 15\n"
          ]
        }
      ]
    },
    {
      "cell_type": "markdown",
      "source": [
        "#Desafio Prático"
      ],
      "metadata": {
        "id": "0P6dvAxRf_Ha"
      }
    },
    {
      "cell_type": "code",
      "source": [
        "import csv\n",
        "temperaturas = []\n",
        "with open('/content/temperatura.csv',) as csvfile:\n",
        "    spamreader = csv.reader(csvfile)\n",
        "    for row in spamreader:\n",
        "        temperaturas.append(float(row[1]))\n",
        "\n",
        "print(temperaturas)"
      ],
      "metadata": {
        "colab": {
          "base_uri": "https://localhost:8080/"
        },
        "id": "AzF539DFifrZ",
        "outputId": "cdca2b97-ef8a-4b39-9aae-f0d6284a4039"
      },
      "execution_count": 35,
      "outputs": [
        {
          "output_type": "stream",
          "name": "stdout",
          "text": [
            "[21.763639832125143, 21.122827346465815, 20.665825688073397, 20.170653789004458, 19.83814623338257, 19.58221153846154, 19.392464204973624, 18.97025316455696, 18.916044776119403, 18.94470284237726, 19.6926905673512, 21.46132578281146, 23.34516672280229, 24.829584599797364, 25.906612133606, 27.025032637075718, 27.438210841370136, 27.756082200861787, 27.627202680067, 27.108557625948933, 26.247936177592788, 24.636204481792717, 23.056170367673825, 22.342056074766354]\n"
          ]
        }
      ]
    },
    {
      "cell_type": "code",
      "source": [
        "print(\"Média:\", media(temperaturas))\n",
        "print(\"Moda:\", moda(temperaturas))\n",
        "print(\"Mediana:\", mediana(temperaturas))\n",
        "print(\"Desvio padrão:\", desvio_padrao(temperaturas))\n",
        "print(\"Variância:\", variancia(temperaturas))\n",
        "print(\"Quartis:\", quartis(temperaturas))"
      ],
      "metadata": {
        "colab": {
          "base_uri": "https://localhost:8080/"
        },
        "id": "9wkQ_j3ki63C",
        "outputId": "dd18773f-cfdc-42bf-9a33-559575a40c93"
      },
      "execution_count": 36,
      "outputs": [
        {
          "output_type": "stream",
          "name": "stdout",
          "text": [
            "Média: 22.826650096210745\n",
            "Moda: []\n",
            "Mediana: 22.05284795344575\n",
            "Desvio padrão: 3.2136517541725667\n",
            "Variância: 10.327557597096416\n",
            "Quartis: [19.6926905673512, 22.05284795344575, 26.247936177592788]\n"
          ]
        }
      ]
    },
    {
      "cell_type": "code",
      "source": [
        "temperatura_quartis = quartis(temperaturas)\n",
        "print(\"Minimo:\", min(temperaturas))\n",
        "print(\"Primeiro Quartil (25%)\",temperatura_quartis[0])\n",
        "print(\"Segundo Quartil (Mediana)\",temperatura_quartis[1])\n",
        "print(\"Terceiro Quartil (75%)\",temperatura_quartis[2])\n",
        "print(\"Maximo:\", max(temperaturas))"
      ],
      "metadata": {
        "colab": {
          "base_uri": "https://localhost:8080/"
        },
        "id": "4gfVEFEZi6zk",
        "outputId": "4dd6f4b0-7776-4c27-8231-aa3063bea4fb"
      },
      "execution_count": 37,
      "outputs": [
        {
          "output_type": "stream",
          "name": "stdout",
          "text": [
            "Minimo: 18.916044776119403\n",
            "Primeiro Quartil (25%) 19.6926905673512\n",
            "Segundo Quartil (Mediana) 22.05284795344575\n",
            "Terceiro Quartil (75%) 26.247936177592788\n",
            "Maximo: 27.756082200861787\n"
          ]
        }
      ]
    },
    {
      "cell_type": "code",
      "source": [
        "print(\"Média:\", media(temperaturas))\n",
        "print(\"Moda:\", moda(temperaturas))\n",
        "print(\"Desvio Padrão:\", desvio_padrao(temperaturas))\n",
        "\n",
        "Q1, Q2, Q3 = quartis(temperaturas)\n",
        "\n",
        "print(\"Minimo:\", min(temperaturas))\n",
        "print(\"Primeiro Quartil (25%):\", Q1)\n",
        "print(\"Segundo Quartil (Mediana):\", Q2)\n",
        "print(\"Terceito Quartil (75%):\", Q3)\n",
        "print(\"Máximo:\", max(temperaturas))"
      ],
      "metadata": {
        "colab": {
          "base_uri": "https://localhost:8080/"
        },
        "id": "VOokBC_HIofj",
        "outputId": "8900edc0-eb47-4b71-9c73-856c9c09a299"
      },
      "execution_count": 38,
      "outputs": [
        {
          "output_type": "stream",
          "name": "stdout",
          "text": [
            "Média: 22.826650096210738\n",
            "Moda: []\n",
            "Desvio Padrão: 3.2136517541725667\n",
            "Minimo: 18.916044776119403\n",
            "Primeiro Quartil (25%): 19.6926905673512\n",
            "Segundo Quartil (Mediana): 22.05284795344575\n",
            "Terceito Quartil (75%): 26.247936177592788\n",
            "Máximo: 27.756082200861787\n"
          ]
        }
      ]
    },
    {
      "cell_type": "markdown",
      "source": [
        "#Teste de Hipótese"
      ],
      "metadata": {
        "id": "JAqdzmTDInpy"
      }
    },
    {
      "cell_type": "code",
      "source": [
        "import csv\n",
        "duracao = []\n",
        "with open('/content/experimento_duraccao.csv') as csvfile:\n",
        "    spamreader = csv.reader(csvfile)\n",
        "    for row in spamreader:\n",
        "        duracao.append(float(row[1]))\n",
        "\n",
        "print(duracao)"
      ],
      "metadata": {
        "colab": {
          "base_uri": "https://localhost:8080/"
        },
        "id": "iyMIwvILc5tF",
        "outputId": "bc16e46d-a86d-4c3a-d6fd-93ef69c09c37"
      },
      "execution_count": 39,
      "outputs": [
        {
          "output_type": "stream",
          "name": "stdout",
          "text": [
            "[1541.121473776273, 1523.4953293328665, 1521.732707443278, 1523.2800913095082, 1530.6433736016138, 1516.6657943260795, 1540.3655251042587, 1529.607004096196, 1531.108607839882, 1523.4879557947793, 1525.1436064717811, 1538.6801556030846, 1535.641873470491, 1529.809188176167, 1516.192904738845, 1546.2980355960492, 1522.9907396393542, 1537.8760742726467, 1523.73661701157, 1520.1317174447095, 1528.6068886742426, 1524.98025747465, 1525.8922476764883, 1531.4468870044761, 1539.1589924981704, 1523.1367185811628, 1540.3938475372772, 1551.798841941055, 1523.6863879663342, 1546.0577411187896, 1540.5731989804453, 1534.6433259600783, 1515.619184168428, 1529.0182414563749, 1517.29018299041, 1537.1241157498737, 1534.6300632281618, 1546.5458637384925, 1533.6700518257123, 1530.350398966893, 1528.0244386286843, 1536.4118504713103, 1524.1736408412069, 1528.5205427151964, 1515.2070313357647, 1514.7807714437265, 1538.9982925905724, 1532.349927959576, 1519.067938811716, 1524.381784685303, 1540.551173991569, 1525.39135087796, 1520.8435870185401, 1533.2240944803098, 1526.1129864709148, 1515.9979252491, 1531.662413689329, 1534.0451337032662, 1518.101250986119, 1541.110951345641, 1526.2604015784827, 1531.1717121818094, 1525.601474185185, 1540.293306955906, 1530.0996907561, 1541.9165966396715, 1535.0268478208336, 1533.5906137465365, 1524.1951840797062, 1524.2069191868293, 1525.6844259720795, 1528.0068649615303, 1526.896560528422, 1512.287233792267, 1521.2048211202798, 1533.3035644233362, 1524.9991348563203, 1524.8537442611337, 1525.6427928967335, 1523.1988123670255, 1532.4651520621408, 1511.6210381617243, 1549.8471577687878, 1539.7719294102933, 1525.8231102806024, 1521.0573894440472, 1543.96186999428, 1539.4283938708024, 1524.5015771837727, 1523.0502437320472, 1534.404912494425, 1538.9758904648393, 1525.025477907811, 1524.918234177881, 1544.422872927602, 1523.1125013916653, 1528.213842744854, 1513.6894170497233, 1532.4005319977712, 1534.0915614971352]\n"
          ]
        }
      ]
    },
    {
      "cell_type": "code",
      "source": [
        "print(\"Média:\", media(duracao))\n",
        "print(\"Moda:\", moda(duracao))\n",
        "print(\"Desvio Padrão:\", desvio_padrao(duracao))\n",
        "\n",
        "Q1, Q2, Q3 = quartis(duracao)\n",
        "\n",
        "print(\"Minimo:\", min(duracao))\n",
        "print(\"Primeiro Quartil (25%):\", Q1)\n",
        "print(\"Segundo Quartil (Mediana):\", Q2)\n",
        "print(\"Terceito Quartil (75%):\", Q3)\n",
        "print(\"Máximo:\", max(duracao))"
      ],
      "metadata": {
        "colab": {
          "base_uri": "https://localhost:8080/"
        },
        "id": "RHsiZzulc92L",
        "outputId": "d6a7445f-3e5c-4192-f7df-0113bfb2ce77"
      },
      "execution_count": 40,
      "outputs": [
        {
          "output_type": "stream",
          "name": "stdout",
          "text": [
            "Média: 1529.5081310675514\n",
            "Moda: []\n",
            "Desvio Padrão: 8.854016222708001\n",
            "Minimo: 1511.6210381617243\n",
            "Primeiro Quartil (25%): 1523.4953293328665\n",
            "Segundo Quartil (Mediana): 1528.3671927300252\n",
            "Terceito Quartil (75%): 1535.641873470491\n",
            "Máximo: 1551.798841941055\n"
          ]
        }
      ]
    },
    {
      "cell_type": "markdown",
      "source": [
        "Hipótese - Tempo de duração do produto é igual a 1570 ou diferente?"
      ],
      "metadata": {
        "id": "e8KpgnD7K9BN"
      }
    },
    {
      "cell_type": "code",
      "source": [
        "from statsmodels.stats.weightstats import ztest"
      ],
      "metadata": {
        "id": "dnCX1e3SJXKX"
      },
      "execution_count": 41,
      "outputs": []
    },
    {
      "cell_type": "code",
      "source": [
        "import statsmodels.stats.weightstats as teste_hipotese"
      ],
      "metadata": {
        "id": "OsoFix-TdEWE"
      },
      "execution_count": 42,
      "outputs": []
    },
    {
      "cell_type": "code",
      "source": [
        "import statsmodels.stats.weightstats"
      ],
      "metadata": {
        "id": "vLcblDZldIhh"
      },
      "execution_count": 43,
      "outputs": []
    },
    {
      "cell_type": "code",
      "source": [
        "teste_hipotese.ztest"
      ],
      "metadata": {
        "colab": {
          "base_uri": "https://localhost:8080/",
          "height": 204
        },
        "id": "Yg5Luo6idNLp",
        "outputId": "377a61ef-9988-4863-f276-8b157a727de3"
      },
      "execution_count": 44,
      "outputs": [
        {
          "output_type": "execute_result",
          "data": {
            "text/plain": [
              "<function statsmodels.stats.weightstats.ztest(x1, x2=None, value=0, alternative='two-sided', usevar='pooled', ddof=1.0)>"
            ],
            "text/html": [
              "<div style=\"max-width:800px; border: 1px solid var(--colab-border-color);\"><style>\n",
              "      pre.function-repr-contents {\n",
              "        overflow-x: auto;\n",
              "        padding: 8px 12px;\n",
              "        max-height: 500px;\n",
              "      }\n",
              "\n",
              "      pre.function-repr-contents.function-repr-contents-collapsed {\n",
              "        cursor: pointer;\n",
              "        max-height: 100px;\n",
              "      }\n",
              "    </style>\n",
              "    <pre style=\"white-space: initial; background:\n",
              "         var(--colab-secondary-surface-color); padding: 8px 12px;\n",
              "         border-bottom: 1px solid var(--colab-border-color);\"><b>statsmodels.stats.weightstats.ztest</b><br/>def ztest(x1, x2=None, value=0, alternative=&#x27;two-sided&#x27;, usevar=&#x27;pooled&#x27;, ddof=1.0)</pre><pre class=\"function-repr-contents function-repr-contents-collapsed\" style=\"\"><a class=\"filepath\" style=\"display:none\" href=\"#\">/usr/local/lib/python3.10/dist-packages/statsmodels/stats/weightstats.py</a>test for mean based on normal distribution, one or two samples\n",
              "\n",
              "In the case of two samples, the samples are assumed to be independent.\n",
              "\n",
              "Parameters\n",
              "----------\n",
              "x1 : array_like, 1-D or 2-D\n",
              "    first of the two independent samples\n",
              "x2 : array_like, 1-D or 2-D\n",
              "    second of the two independent samples\n",
              "value : float\n",
              "    In the one sample case, value is the mean of x1 under the Null\n",
              "    hypothesis.\n",
              "    In the two sample case, value is the difference between mean of x1 and\n",
              "    mean of x2 under the Null hypothesis. The test statistic is\n",
              "    `x1_mean - x2_mean - value`.\n",
              "alternative : str\n",
              "    The alternative hypothesis, H1, has to be one of the following\n",
              "\n",
              "       &#x27;two-sided&#x27;: H1: difference in means not equal to value (default)\n",
              "       &#x27;larger&#x27; :   H1: difference in means larger than value\n",
              "       &#x27;smaller&#x27; :  H1: difference in means smaller than value\n",
              "\n",
              "usevar : str, &#x27;pooled&#x27; or &#x27;unequal&#x27;\n",
              "    If ``pooled``, then the standard deviation of the samples is assumed to be\n",
              "    the same. If ``unequal``, then the standard deviation of the sample is\n",
              "    assumed to be different.\n",
              "ddof : int\n",
              "    Degrees of freedom use in the calculation of the variance of the mean\n",
              "    estimate. In the case of comparing means this is one, however it can\n",
              "    be adjusted for testing other statistics (proportion, correlation)\n",
              "\n",
              "Returns\n",
              "-------\n",
              "tstat : float\n",
              "    test statistic\n",
              "pvalue : float\n",
              "    pvalue of the t-test\n",
              "\n",
              "Notes\n",
              "-----\n",
              "usevar can be pooled or unequal in two sample case</pre>\n",
              "      <script>\n",
              "      if (google.colab.kernel.accessAllowed && google.colab.files && google.colab.files.view) {\n",
              "        for (const element of document.querySelectorAll('.filepath')) {\n",
              "          element.style.display = 'block'\n",
              "          element.onclick = (event) => {\n",
              "            event.preventDefault();\n",
              "            event.stopPropagation();\n",
              "            google.colab.files.view(element.textContent, 1487);\n",
              "          };\n",
              "        }\n",
              "      }\n",
              "      for (const element of document.querySelectorAll('.function-repr-contents')) {\n",
              "        element.onclick = (event) => {\n",
              "          event.preventDefault();\n",
              "          event.stopPropagation();\n",
              "          element.classList.toggle('function-repr-contents-collapsed');\n",
              "        };\n",
              "      }\n",
              "      </script>\n",
              "      </div>"
            ]
          },
          "metadata": {},
          "execution_count": 44
        }
      ]
    },
    {
      "cell_type": "code",
      "source": [
        "stats, p_valor = ztest(x1 = duracao, value=1570, alternative=\"two-sided\")"
      ],
      "metadata": {
        "id": "fiL2SADjUNkT"
      },
      "execution_count": 45,
      "outputs": []
    },
    {
      "cell_type": "code",
      "source": [
        "print(p_valor)"
      ],
      "metadata": {
        "colab": {
          "base_uri": "https://localhost:8080/"
        },
        "id": "gJvpVxXkUOB0",
        "outputId": "c3fa769d-6038-414f-be44-b776f173329c"
      },
      "execution_count": 46,
      "outputs": [
        {
          "output_type": "stream",
          "name": "stdout",
          "text": [
            "0.0\n"
          ]
        }
      ]
    },
    {
      "cell_type": "code",
      "source": [
        "confianca = 0.95\n",
        "\n",
        "significancia = 1 - confianca\n",
        "\n",
        "if p_valor < significancia:\n",
        "  print('Rejeitamos a Hipótese nula')\n",
        "else:\n",
        "  print('Aceitamos a Hipótese nula')"
      ],
      "metadata": {
        "colab": {
          "base_uri": "https://localhost:8080/"
        },
        "id": "QDMGzaE5dSys",
        "outputId": "58459f0d-6201-4835-e15b-0cf1daf0ee26"
      },
      "execution_count": 47,
      "outputs": [
        {
          "output_type": "stream",
          "name": "stdout",
          "text": [
            "Rejeitamos a Hipótese nula\n"
          ]
        }
      ]
    },
    {
      "cell_type": "markdown",
      "source": [
        "Hipótese Nula = Tempo de duração de um produto é de 1570"
      ],
      "metadata": {
        "id": "VK2v1m9XglLA"
      }
    },
    {
      "cell_type": "code",
      "source": [
        "stats, p_valor = ztest(x1 = duracao, value=1530, alternative=\"two-sided\")"
      ],
      "metadata": {
        "id": "GCUExY96CXgB"
      },
      "execution_count": 48,
      "outputs": []
    },
    {
      "cell_type": "code",
      "source": [
        "print(p_valor)"
      ],
      "metadata": {
        "colab": {
          "base_uri": "https://localhost:8080/"
        },
        "id": "H7s3Pxy3CaE1",
        "outputId": "0ada8591-8485-48b3-8116-4f3f7c1ece7b"
      },
      "execution_count": 49,
      "outputs": [
        {
          "output_type": "stream",
          "name": "stdout",
          "text": [
            "0.5785308297555402\n"
          ]
        }
      ]
    },
    {
      "cell_type": "code",
      "source": [
        "significancia = 0.05\n",
        "\n",
        "if p_valor < significancia:\n",
        "  print('Rejeitamos a Hipótese alternativa')\n",
        "else:\n",
        "  print('Aceitamos a Hipótese alternativa')"
      ],
      "metadata": {
        "colab": {
          "base_uri": "https://localhost:8080/"
        },
        "id": "DNY72LFdCbF5",
        "outputId": "9c3001ac-9342-4e0b-cae8-fe8e7bc1523d"
      },
      "execution_count": 50,
      "outputs": [
        {
          "output_type": "stream",
          "name": "stdout",
          "text": [
            "Aceitamos a Hipótese alternativa\n"
          ]
        }
      ]
    },
    {
      "cell_type": "markdown",
      "source": [
        "Hipótese alternativa = tempo de duração de um produto é diferente da hipótese nula."
      ],
      "metadata": {
        "id": "LQ213dqAgxdt"
      }
    },
    {
      "cell_type": "markdown",
      "source": [
        "Hipótese - Tempo de resposta do atendimento e igual a 30 ou inferior"
      ],
      "metadata": {
        "id": "58YDHq-exMVU"
      }
    },
    {
      "cell_type": "code",
      "source": [
        "tempo_resposta = [28, 32, 29, 31, 30, 33, 28, 30, 31, 29,\n",
        "                  30, 32, 29, 31, 30, 33, 28, 30, 31, 29,\n",
        "                  30, 32, 24, 29, 30]"
      ],
      "metadata": {
        "id": "TgXWOW1giOyF"
      },
      "execution_count": 51,
      "outputs": []
    },
    {
      "cell_type": "code",
      "source": [
        "def descritiva(valores):\n",
        "  print(\"Média:\", media(valores))\n",
        "  print(\"Moda:\", moda(valores))\n",
        "  print(\"Desvio Padrão:\", desvio_padrao(valores))\n",
        "\n",
        "  Q1, Q2, Q3 = quartis(valores)\n",
        "\n",
        "  print(\"Minimo:\", min(valores))\n",
        "  print(\"Primeiro Quartil (25%):\", Q1)\n",
        "  print(\"Segundo Quartil (Mediana):\", Q2)\n",
        "  print(\"Terceito Quartil (75%):\", Q3)\n",
        "  print(\"Máximo:\", max(valores))"
      ],
      "metadata": {
        "id": "8Td5oT0Ai3qo"
      },
      "execution_count": 52,
      "outputs": []
    },
    {
      "cell_type": "code",
      "source": [
        "descritiva(tempo_resposta)"
      ],
      "metadata": {
        "colab": {
          "base_uri": "https://localhost:8080/"
        },
        "id": "ajCacQXOjVbW",
        "outputId": "03523d04-54f5-4142-fc7d-534e3c636b5b"
      },
      "execution_count": 53,
      "outputs": [
        {
          "output_type": "stream",
          "name": "stdout",
          "text": [
            "Média: 29.96\n",
            "Moda: [30]\n",
            "Desvio Padrão: 1.9035055380358978\n",
            "Minimo: 24\n",
            "Primeiro Quartil (25%): 29.0\n",
            "Segundo Quartil (Mediana): 30\n",
            "Terceito Quartil (75%): 31.0\n",
            "Máximo: 33\n"
          ]
        }
      ]
    },
    {
      "cell_type": "code",
      "source": [
        "from scipy.stats import ttest_1samp"
      ],
      "metadata": {
        "id": "ztaYpURyjig-"
      },
      "execution_count": 54,
      "outputs": []
    },
    {
      "cell_type": "code",
      "source": [
        "ttest_1samp(tempo_resposta, 30, alternative='less')"
      ],
      "metadata": {
        "colab": {
          "base_uri": "https://localhost:8080/"
        },
        "id": "DbKslMh1jtXH",
        "outputId": "05b32e79-f21b-42c5-895e-e7a6b752d82c"
      },
      "execution_count": 55,
      "outputs": [
        {
          "output_type": "execute_result",
          "data": {
            "text/plain": [
              "TtestResult(statistic=-0.10506930292746224, pvalue=0.4585970095667924, df=24)"
            ]
          },
          "metadata": {},
          "execution_count": 55
        }
      ]
    },
    {
      "cell_type": "code",
      "source": [
        "stats, p_valor = ttest_1samp(tempo_resposta, 30, alternative='less')"
      ],
      "metadata": {
        "id": "sHvuL0QpcpZz"
      },
      "execution_count": 56,
      "outputs": []
    },
    {
      "cell_type": "code",
      "source": [
        "print(p_valor)"
      ],
      "metadata": {
        "colab": {
          "base_uri": "https://localhost:8080/"
        },
        "id": "AINJfddtcsEL",
        "outputId": "dbba6762-1a69-4a42-c850-ebed7c7a1b2b"
      },
      "execution_count": 57,
      "outputs": [
        {
          "output_type": "stream",
          "name": "stdout",
          "text": [
            "0.4585970095667924\n"
          ]
        }
      ]
    },
    {
      "cell_type": "code",
      "source": [
        "print(\"Média:\", media(duracao))\n",
        "print(\"Moda:\", moda(duracao))\n",
        "print(\"Desvio Padrão:\", desvio_padrao(duracao))\n",
        "\n",
        "Q1, Q2, Q3 = quartis(duracao)\n",
        "\n",
        "print(\"Minimo:\", min(duracao))\n",
        "print(\"Primeiro Quartil (25%):\", Q1)\n",
        "print(\"Segundo Quartil (Mediana):\", Q2)\n",
        "print(\"Terceito Quartil (75%):\", Q3)\n",
        "print(\"Máximo:\", max(duracao))"
      ],
      "metadata": {
        "colab": {
          "base_uri": "https://localhost:8080/"
        },
        "id": "VuEFjIkbkDeI",
        "outputId": "f65ab650-d727-487e-f9e7-3b8706519ec9"
      },
      "execution_count": 58,
      "outputs": [
        {
          "output_type": "stream",
          "name": "stdout",
          "text": [
            "Média: 1529.508131067551\n",
            "Moda: []\n",
            "Desvio Padrão: 8.854016222708001\n",
            "Minimo: 1511.6210381617243\n",
            "Primeiro Quartil (25%): 1523.4953293328665\n",
            "Segundo Quartil (Mediana): 1528.3671927300252\n",
            "Terceito Quartil (75%): 1535.641873470491\n",
            "Máximo: 1551.798841941055\n"
          ]
        }
      ]
    },
    {
      "cell_type": "code",
      "source": [
        "confianca = 0.95\n",
        "\n",
        "significancia = 1 - confianca\n",
        "\n",
        "if p_valor < significancia:\n",
        "  print('Rejeitamos a Hipótese nula')\n",
        "else:\n",
        "  print('Aceitamos a Hipótese nula')"
      ],
      "metadata": {
        "colab": {
          "base_uri": "https://localhost:8080/"
        },
        "id": "C4WJwaAgfz5R",
        "outputId": "5ade5141-f196-46e2-8da8-9e2a729a7a32"
      },
      "execution_count": 59,
      "outputs": [
        {
          "output_type": "stream",
          "name": "stdout",
          "text": [
            "Aceitamos a Hipótese nula\n"
          ]
        }
      ]
    },
    {
      "cell_type": "markdown",
      "source": [
        "Hipótese - Anuncios aumentam as vendas, ou não?"
      ],
      "metadata": {
        "id": "-jkN7W-txB9U"
      }
    },
    {
      "cell_type": "code",
      "source": [
        "vendas_com_propaganda = [329.80, 291.70, 338.86, 391.38, 285.95, 285.95, 394.75, 346.05, 271.83, 332.55, 272.19, 272.06, 314.52, 185.20, 196.50, 266.26, 239.23, 318.85, 245.52, 215.26, 387.94, 286.45, 304.05, 214.52, 267.34, 306.66, 230.94, 322.54, 263.96, 282.50, 263.90, 411.14, 299.19, 236.54, 349.35, 226.75, 312.53, 182.42, 220.31, 311.81, 344.31, 310.28, 293.66, 281.93, 211.29, 256.81, 272.36, 363.43, 320.62, 194.22]"
      ],
      "metadata": {
        "id": "eq3BrG2Ft7uq"
      },
      "execution_count": 60,
      "outputs": []
    },
    {
      "cell_type": "code",
      "source": [
        "vendas_sem_propaganda = [304.44, 261.89, 244.38, 321.70, 346.86, 348.08, 234.65, 266.45, 304.88, 343.53, 256.25, 273.86, 218.62, 213.23, 333.75, 366.37, 280.68, 345.21, 306.70, 246.29, 306.68, 377.28, 282.85, 378.88, 127.82, 334.31, 290.22, 267.06, 290.51, 165.74, 271.82, 306.43, 373.67, 253.90, 236.49, 254.89, 339.92, 304.73, 253.21, 315.80, 292.80, 343.12, 242.88, 265.34, 261.47, 197.19, 302.77, 300.66, 285.31, 270.92]"
      ],
      "metadata": {
        "id": "y4nloUjgox8k"
      },
      "execution_count": 61,
      "outputs": []
    },
    {
      "cell_type": "code",
      "source": [
        "descritiva(vendas_com_propaganda)\n",
        "len(vendas_com_propaganda)"
      ],
      "metadata": {
        "colab": {
          "base_uri": "https://localhost:8080/"
        },
        "id": "XPPICFHDo1y-",
        "outputId": "ada2e583-5d26-41cb-8587-ea8bd3970fb8"
      },
      "execution_count": 62,
      "outputs": [
        {
          "output_type": "stream",
          "name": "stdout",
          "text": [
            "Média: 286.4832\n",
            "Moda: [285.95]\n",
            "Desvio Padrão: 56.02157632591944\n",
            "Minimo: 182.42\n",
            "Primeiro Quartil (25%): 242.375\n",
            "Segundo Quartil (Mediana): 285.95\n",
            "Terceito Quartil (75%): 321.58000000000004\n",
            "Máximo: 411.14\n"
          ]
        },
        {
          "output_type": "execute_result",
          "data": {
            "text/plain": [
              "50"
            ]
          },
          "metadata": {},
          "execution_count": 62
        }
      ]
    },
    {
      "cell_type": "code",
      "source": [
        "descritiva(vendas_sem_propaganda)\n",
        "len(vendas_sem_propaganda)"
      ],
      "metadata": {
        "colab": {
          "base_uri": "https://localhost:8080/"
        },
        "id": "C434hR9ho7eL",
        "outputId": "118a1407-f22f-4e35-95a2-e3981bd257d9"
      },
      "execution_count": 63,
      "outputs": [
        {
          "output_type": "stream",
          "name": "stdout",
          "text": [
            "Média: 286.24979999999994\n",
            "Moda: []\n",
            "Desvio Padrão: 52.626662734505864\n",
            "Minimo: 127.82\n",
            "Primeiro Quartil (25%): 254.39499999999998\n",
            "Segundo Quartil (Mediana): 287.765\n",
            "Terceito Quartil (75%): 327.725\n",
            "Máximo: 378.88\n"
          ]
        },
        {
          "output_type": "execute_result",
          "data": {
            "text/plain": [
              "50"
            ]
          },
          "metadata": {},
          "execution_count": 63
        }
      ]
    },
    {
      "cell_type": "code",
      "source": [
        "from scipy.stats import ttest_ind"
      ],
      "metadata": {
        "id": "SpprJuy2pX8A"
      },
      "execution_count": 64,
      "outputs": []
    },
    {
      "cell_type": "code",
      "source": [
        "ttest_ind(vendas_com_propaganda, vendas_sem_propaganda, alternative='greater')"
      ],
      "metadata": {
        "colab": {
          "base_uri": "https://localhost:8080/"
        },
        "id": "7GQZ7VYMfilG",
        "outputId": "da9e7a43-7ee4-4a44-ad83-1748e03f4e0f"
      },
      "execution_count": 65,
      "outputs": [
        {
          "output_type": "execute_result",
          "data": {
            "text/plain": [
              "TtestResult(statistic=0.021471690993471577, pvalue=0.49145652153110797, df=98.0)"
            ]
          },
          "metadata": {},
          "execution_count": 65
        }
      ]
    },
    {
      "cell_type": "code",
      "source": [
        "stats, p_valor = ttest_ind(vendas_com_propaganda, vendas_sem_propaganda, alternative='greater')"
      ],
      "metadata": {
        "id": "jYeQFKp3p6eU"
      },
      "execution_count": 66,
      "outputs": []
    },
    {
      "cell_type": "code",
      "source": [
        "print(p_valor)"
      ],
      "metadata": {
        "colab": {
          "base_uri": "https://localhost:8080/"
        },
        "id": "hE94P5cHt_kO",
        "outputId": "ac290f4c-4961-4c7e-c088-da785a2cc851"
      },
      "execution_count": 67,
      "outputs": [
        {
          "output_type": "stream",
          "name": "stdout",
          "text": [
            "0.49145652153110797\n"
          ]
        }
      ]
    },
    {
      "cell_type": "code",
      "source": [
        "confianca = 0.95\n",
        "\n",
        "significancia = 1 - confianca\n",
        "\n",
        "if p_valor < significancia:\n",
        "  print('Rejeitamos a Hipótese nula')\n",
        "else:\n",
        "  print('Aceitamos a Hipótese nula')"
      ],
      "metadata": {
        "colab": {
          "base_uri": "https://localhost:8080/"
        },
        "id": "3jeZyuO8f1kb",
        "outputId": "b6f09ba3-4e46-4c5a-c4f2-ddc5ed016bc5"
      },
      "execution_count": 68,
      "outputs": [
        {
          "output_type": "stream",
          "name": "stdout",
          "text": [
            "Aceitamos a Hipótese nula\n"
          ]
        }
      ]
    },
    {
      "cell_type": "markdown",
      "source": [
        "Hipótese Nula = Vendas com propaganda são maiores?"
      ],
      "metadata": {
        "id": "YvjYgq0QgHkp"
      }
    },
    {
      "cell_type": "markdown",
      "source": [
        "Hipótese - Análise de atendimento"
      ],
      "metadata": {
        "id": "F_wxeGFyw6-g"
      }
    },
    {
      "cell_type": "code",
      "source": [
        "antes_do_treinamento =[78, 65, 75, 80, 85, 88, 79, 81, 76, 84]\n",
        "apos_o_treinamento = [85, 70, 75, 87, 90, 92, 84, 82, 76, 91]"
      ],
      "metadata": {
        "id": "z53JSf4krJkN"
      },
      "execution_count": 69,
      "outputs": []
    },
    {
      "cell_type": "code",
      "source": [
        "descritiva(antes_do_treinamento)\n",
        "descritiva(apos_o_treinamento)"
      ],
      "metadata": {
        "colab": {
          "base_uri": "https://localhost:8080/"
        },
        "id": "Qdo_U8hxrP4G",
        "outputId": "e66d7449-2ce2-464d-fd56-cdb514b7c1ee"
      },
      "execution_count": 70,
      "outputs": [
        {
          "output_type": "stream",
          "name": "stdout",
          "text": [
            "Média: 79.1\n",
            "Moda: []\n",
            "Desvio Padrão: 6.402256546631733\n",
            "Minimo: 65\n",
            "Primeiro Quartil (25%): 75.5\n",
            "Segundo Quartil (Mediana): 79.5\n",
            "Terceito Quartil (75%): 84.5\n",
            "Máximo: 88\n",
            "Média: 83.2\n",
            "Moda: []\n",
            "Desvio Padrão: 7.435649863252632\n",
            "Minimo: 70\n",
            "Primeiro Quartil (25%): 75.5\n",
            "Segundo Quartil (Mediana): 84.5\n",
            "Terceito Quartil (75%): 90.5\n",
            "Máximo: 92\n"
          ]
        }
      ]
    },
    {
      "cell_type": "code",
      "source": [
        "[d - a for a, d in zip(antes_do_treinamento,apos_o_treinamento)]"
      ],
      "metadata": {
        "colab": {
          "base_uri": "https://localhost:8080/"
        },
        "id": "IXwn9Dv_ridg",
        "outputId": "2d89cda0-824b-495a-80bb-f4b75e7aa40e"
      },
      "execution_count": 71,
      "outputs": [
        {
          "output_type": "execute_result",
          "data": {
            "text/plain": [
              "[5, 0, 0, 4, 5, 5, 6, 6, 6, 4]"
            ]
          },
          "metadata": {},
          "execution_count": 71
        }
      ]
    },
    {
      "cell_type": "code",
      "source": [
        "from scipy.stats import ttest_rel"
      ],
      "metadata": {
        "id": "8acmgVJssIQX"
      },
      "execution_count": 72,
      "outputs": []
    },
    {
      "cell_type": "code",
      "source": [
        "stats, p_valor = ttest_rel(apos_o_treinamento, antes_do_treinamento, alternative=\"greater\" )"
      ],
      "metadata": {
        "id": "aOuaTu2ZsSNo"
      },
      "execution_count": 73,
      "outputs": []
    },
    {
      "cell_type": "code",
      "source": [
        "print(p_valor)"
      ],
      "metadata": {
        "colab": {
          "base_uri": "https://localhost:8080/"
        },
        "id": "3KXJ-Apwst31",
        "outputId": "d58f84e8-8d3d-4a32-9b7f-ca32311df7a2"
      },
      "execution_count": 74,
      "outputs": [
        {
          "output_type": "stream",
          "name": "stdout",
          "text": [
            "0.0001510075258077986\n"
          ]
        }
      ]
    },
    {
      "cell_type": "code",
      "source": [
        "confianca = 0.95\n",
        "\n",
        "significancia = 1 - confianca\n",
        "\n",
        "if p_valor < significancia:\n",
        "  print('Rejeitamos a Hipótese nula')\n",
        "else:\n",
        "  print('Aceitamos a Hipótese nula')"
      ],
      "metadata": {
        "colab": {
          "base_uri": "https://localhost:8080/"
        },
        "id": "bGWLHdr_QwcC",
        "outputId": "f9ce02d4-cc0a-4faa-aac5-8d73315c25ee"
      },
      "execution_count": 75,
      "outputs": [
        {
          "output_type": "stream",
          "name": "stdout",
          "text": [
            "Rejeitamos a Hipótese nula\n"
          ]
        }
      ]
    },
    {
      "cell_type": "markdown",
      "source": [
        "Rejeita a hipotese nula."
      ],
      "metadata": {
        "id": "vBbA-4YoQqgA"
      }
    },
    {
      "cell_type": "markdown",
      "source": [
        "Hipótese Nula = Notas dos vendedores aumentam com o treinamento."
      ],
      "metadata": {
        "id": "J6d04cvniuVD"
      }
    },
    {
      "cell_type": "markdown",
      "source": [
        "Hipótese - Qual a diferença entre o grupo de esportes de criança e um grupo de adultos"
      ],
      "metadata": {
        "id": "_XYTd_8Bu3Ae"
      }
    },
    {
      "cell_type": "code",
      "source": [
        "#Exemplo com três grupos (ex. Criança, Adulto e Idoso)\n",
        "#observacao = [[50, 30, 20], [40, 35, 25], [10, 5, 15]]"
      ],
      "metadata": {
        "id": "uXyvunHpuzjF"
      },
      "execution_count": 76,
      "outputs": []
    },
    {
      "cell_type": "code",
      "source": [
        "observacao = [[50, 30, 20], [40, 35, 25]]"
      ],
      "metadata": {
        "id": "q988D0p7SenF"
      },
      "execution_count": 80,
      "outputs": []
    },
    {
      "cell_type": "code",
      "source": [
        "from scipy.stats import chi2_contingency"
      ],
      "metadata": {
        "id": "RPlNZzDDvO5n"
      },
      "execution_count": 81,
      "outputs": []
    },
    {
      "cell_type": "code",
      "source": [
        "static, p_valor, dof, expected = chi2_contingency(observacao)"
      ],
      "metadata": {
        "id": "qd9ekO-mvXYR"
      },
      "execution_count": 82,
      "outputs": []
    },
    {
      "cell_type": "code",
      "source": [
        "print(p_valor)"
      ],
      "metadata": {
        "colab": {
          "base_uri": "https://localhost:8080/"
        },
        "id": "D1MYavXLu_I3",
        "outputId": "92531059-fe56-4441-b8d0-d460c31d7965"
      },
      "execution_count": 83,
      "outputs": [
        {
          "output_type": "stream",
          "name": "stdout",
          "text": [
            "0.3585665413731905\n"
          ]
        }
      ]
    },
    {
      "cell_type": "code",
      "source": [
        "confianca = 0.95\n",
        "\n",
        "significancia = 1 - confianca\n",
        "\n",
        "if p_valor < significancia:\n",
        "  print('Rejeitamos a Hipótese nula')\n",
        "else:\n",
        "  print('Aceitamos a Hipótese nula')"
      ],
      "metadata": {
        "colab": {
          "base_uri": "https://localhost:8080/"
        },
        "id": "iyRp8PXoTM3m",
        "outputId": "e043fad3-0fae-4298-b8e5-f3527bacfd70"
      },
      "execution_count": 84,
      "outputs": [
        {
          "output_type": "stream",
          "name": "stdout",
          "text": [
            "Aceitamos a Hipótese nula\n"
          ]
        }
      ]
    }
  ]
}